{
  "nbformat": 4,
  "nbformat_minor": 0,
  "metadata": {
    "colab": {
      "name": "BERT_embeddings.ipynb",
      "provenance": [],
      "collapsed_sections": []
    },
    "kernelspec": {
      "name": "python3",
      "display_name": "Python 3"
    },
    "language_info": {
      "name": "python"
    }
  },
  "cells": [
    {
      "cell_type": "markdown",
      "source": [
        "# Experimental: Extract BERT embeddings for each noun in a poem\n",
        "\n",
        "To see if we can find any correlation of subject continuity and word embeddings of all of a poem's nouns, I put together some code together to lay the ground work for that.\n",
        "\n",
        "First, I implemented a function that takes a poem and outputs the BERT embedding for each token.\n",
        "Second, there is another function that extracts all nouns (and their word index) from a poem.\n",
        "\n",
        "Note that BERT operates on subword basis: While most of the common English words are a token as themselves, less common words (e.g. \"embeddings\") are split up into multiple tokens. In the most extreme case, each character of a word is a token in itself.\n",
        "\n",
        "Hence, BERT might output multiple token embeddings for a given word. To get all the token embeddings of a given word, the function `get_token_embeddings` outputs besides the actual embeddings also a mapping, so that we can reconstruct which embedding belongs to which token, and which tokens belong to which word in the input.\n",
        "\n",
        "Similarly, the function `get_nouns_in_poem` does not only output the nouns themselves, but also their indexes in the original poem, so that we can simply fetch all token embeddings that belong to some noun.\n",
        "\n",
        "Here is a useful tutorial about how to get the word embeddings from BERT (I copied a lot of stuff from there):\n",
        "https://mccormickml.com/2019/05/14/BERT-word-embeddings-tutorial/"
      ],
      "metadata": {
        "id": "9e9qTAf2-ELF"
      }
    },
    {
      "cell_type": "code",
      "execution_count": null,
      "metadata": {
        "id": "T0jrzLO7qUd6"
      },
      "outputs": [],
      "source": [
        "!pip install transformers\n",
        "import torch\n",
        "import numpy as np\n",
        "import random\n",
        "from transformers import BertTokenizerFast, BertModel\n",
        "import nltk\n",
        "nltk.download('stopwords')\n",
        "nltk.download('wordnet')\n",
        "nltk.download('punkt')\n",
        "nltk.download('averaged_perceptron_tagger')\n",
        "nltk.download('treebank')"
      ]
    },
    {
      "cell_type": "code",
      "source": [
        "tokenizer = BertTokenizerFast.from_pretrained('bert-base-uncased')\n",
        "model = BertModel.from_pretrained('bert-base-uncased', output_hidden_states = True)"
      ],
      "metadata": {
        "id": "Dom7-2XKqZ9D"
      },
      "execution_count": null,
      "outputs": []
    },
    {
      "cell_type": "code",
      "source": [
        "def get_token_embeddings(tokenizer, model, poem):\n",
        "    \"\"\"Retrieve the BERT embedding of each token in a poem\n",
        "\n",
        "    :param tokenizer: BERT Fast tokenizer\n",
        "    :param model: BERT pre-trained model\n",
        "    :param poem: poem as a single string\n",
        "    :return: (mapping of word index to token, embeddings for each token)\n",
        "    \"\"\"\n",
        "    # Tokenize the poem\n",
        "    marked_poem = \"[CLS] \" + poem + \" [SEP]\"\n",
        "    bert_tokenized_poem = tokenizer.tokenize(marked_poem)\n",
        "\n",
        "    # Get the word to token ID mapping\n",
        "    encoded_poem = tokenizer(poem)\n",
        "    word_ids = encoded_poem.word_ids()\n",
        "    word_to_token = list(zip(word_ids, bert_tokenized_poem))[1:-1]\n",
        "\n",
        "    num_words = word_to_token[-1][0] + 1\n",
        "    word_token_mapping = [[] for _ in range(num_words)]\n",
        "\n",
        "    for token_index, (word_id, token) in enumerate(word_to_token):\n",
        "        word_token_mapping[word_id].append(token_index)\n",
        "\n",
        "    # Get all hidden states\n",
        "    indexed_tokens = tokenizer.convert_tokens_to_ids(bert_tokenized_poem)\n",
        "    segment_ids = [1] * len(bert_tokenized_poem)\n",
        "\n",
        "    tokens_tensor = torch.tensor([indexed_tokens])\n",
        "    segments_tensors = torch.tensor([segment_ids])\n",
        "\n",
        "    model.eval()\n",
        "    with torch.no_grad():\n",
        "        outputs = model(tokens_tensor, segments_tensors)\n",
        "    hidden_states = torch.stack(outputs[2], dim=0).squeeze(dim=1).permute(1,0,2)\n",
        "\n",
        "    # Concat last four layers as final embedding\n",
        "    embeddings = []\n",
        "    for token in hidden_states[1:-1]:\n",
        "        last_four_layers = torch.cat([token[-i] for i in range(1, 5)], dim=0)\n",
        "        embeddings.append(last_four_layers)\n",
        "    \n",
        "    return word_token_mapping, embeddings"
      ],
      "metadata": {
        "id": "7rRuHWEV5rP3"
      },
      "execution_count": 3,
      "outputs": []
    },
    {
      "cell_type": "markdown",
      "source": [
        "## Example 1: Each word consists only of one token"
      ],
      "metadata": {
        "id": "0_TPJW4a_h4e"
      }
    },
    {
      "cell_type": "code",
      "source": [
        "poem_1 = \"\"\"\n",
        "although chocolate cookies are sweet\n",
        "used for jelly, a warm drink or a treat\n",
        "with some nut, and some spice\n",
        "and some cream. if it’s nice\n",
        "it’s the flavor that makes you a treat\n",
        "\"\"\""
      ],
      "metadata": {
        "id": "drMaoKbgrFGE"
      },
      "execution_count": 4,
      "outputs": []
    },
    {
      "cell_type": "code",
      "source": [
        "word_token_mapping_1, embeddings_1 = get_token_embeddings(tokenizer, model, poem_1)\n",
        "\n",
        "print(f\"Number of tokens: {len(embeddings_1)}\")\n",
        "print(f\"Shape of each embedding: {embeddings_1[0].shape}\\n\")\n",
        "\n",
        "word_token_mapping_1"
      ],
      "metadata": {
        "colab": {
          "base_uri": "https://localhost:8080/"
        },
        "id": "3wXZRmyi3Kj0",
        "outputId": "a7edf4d0-3fa1-4cbd-d8ca-b7434ae144c5"
      },
      "execution_count": 5,
      "outputs": [
        {
          "output_type": "stream",
          "name": "stdout",
          "text": [
            "Number of tokens: 41\n",
            "Shape of each embedding: torch.Size([3072])\n",
            "\n"
          ]
        },
        {
          "output_type": "execute_result",
          "data": {
            "text/plain": [
              "[[0],\n",
              " [1],\n",
              " [2],\n",
              " [3],\n",
              " [4],\n",
              " [5],\n",
              " [6],\n",
              " [7],\n",
              " [8],\n",
              " [9],\n",
              " [10],\n",
              " [11],\n",
              " [12],\n",
              " [13],\n",
              " [14],\n",
              " [15],\n",
              " [16],\n",
              " [17],\n",
              " [18],\n",
              " [19],\n",
              " [20],\n",
              " [21],\n",
              " [22],\n",
              " [23],\n",
              " [24],\n",
              " [25],\n",
              " [26],\n",
              " [27],\n",
              " [28],\n",
              " [29],\n",
              " [30],\n",
              " [31],\n",
              " [32],\n",
              " [33],\n",
              " [34],\n",
              " [35],\n",
              " [36],\n",
              " [37],\n",
              " [38],\n",
              " [39],\n",
              " [40]]"
            ]
          },
          "metadata": {},
          "execution_count": 5
        }
      ]
    },
    {
      "cell_type": "markdown",
      "source": [
        "# Example 2: Words that consist of multiple tokens"
      ],
      "metadata": {
        "id": "xH1fvk0i_wQQ"
      }
    },
    {
      "cell_type": "code",
      "source": [
        "poem_2 = \"\"\"\n",
        "I haven’t switched on my TV for years\n",
        "we have people like me, and my fears\n",
        "i talk to the news\n",
        "i am paying my dues\n",
        "rarely and loudly despise all my peers\n",
        "\"\"\""
      ],
      "metadata": {
        "id": "ZDVu-8A9_nZD"
      },
      "execution_count": 6,
      "outputs": []
    },
    {
      "cell_type": "code",
      "source": [
        "word_token_mapping_2, embeddings_2 = get_token_embeddings(tokenizer, model, poem_2)\n",
        "\n",
        "print(f\"Number of tokens: {len(embeddings_2)}\")\n",
        "print(f\"Shape of each embedding: {embeddings_2[0].shape}\\n\")\n",
        "\n",
        "word_token_mapping_2"
      ],
      "metadata": {
        "colab": {
          "base_uri": "https://localhost:8080/"
        },
        "id": "FBVsCFnX_r9m",
        "outputId": "558e0c14-f5a7-441c-8220-493dd437abf6"
      },
      "execution_count": 7,
      "outputs": [
        {
          "output_type": "stream",
          "name": "stdout",
          "text": [
            "Number of tokens: 39\n",
            "Shape of each embedding: torch.Size([3072])\n",
            "\n"
          ]
        },
        {
          "output_type": "execute_result",
          "data": {
            "text/plain": [
              "[[0],\n",
              " [1],\n",
              " [2],\n",
              " [3],\n",
              " [4],\n",
              " [5],\n",
              " [6],\n",
              " [7],\n",
              " [8],\n",
              " [9],\n",
              " [10],\n",
              " [11],\n",
              " [12],\n",
              " [13],\n",
              " [14],\n",
              " [15],\n",
              " [16],\n",
              " [17],\n",
              " [18],\n",
              " [19],\n",
              " [20],\n",
              " [21],\n",
              " [22],\n",
              " [23],\n",
              " [24],\n",
              " [25],\n",
              " [26],\n",
              " [27],\n",
              " [28, 29],\n",
              " [30],\n",
              " [31],\n",
              " [32],\n",
              " [33, 34, 35],\n",
              " [36],\n",
              " [37],\n",
              " [38]]"
            ]
          },
          "metadata": {},
          "execution_count": 7
        }
      ]
    },
    {
      "cell_type": "markdown",
      "source": [
        "# Extracting nouns and their word indexes from poem"
      ],
      "metadata": {
        "id": "ptZ7yY8XAC32"
      }
    },
    {
      "cell_type": "code",
      "source": [
        "# from https://stackoverflow.com/questions/33587667/extracting-all-nouns-from-a-text-file-using-nltk\n",
        "# thought about using Rami's code from the lexical diversity but it seemed overkill for what I needed\n",
        "\n",
        "def get_nouns_in_poem(poem):\n",
        "    \"\"\"Extract all nouns and their word index from a poem\n",
        "\n",
        "    :param poem: One poem as a single string\n",
        "    :return: list of tuples: (word index, noun as string)\n",
        "    \"\"\"\n",
        "    is_noun = lambda pos: pos[:2] == 'NN'\n",
        "    nltk_tokenized_poem = nltk.word_tokenize(poem)\n",
        "    nouns = [(i, word) for i, (word, pos) in enumerate(nltk.pos_tag(nltk_tokenized_poem)) if is_noun(pos)]\n",
        "    return nouns"
      ],
      "metadata": {
        "id": "0f5ngkHw48aJ"
      },
      "execution_count": 8,
      "outputs": []
    },
    {
      "cell_type": "code",
      "source": [
        "nouns_1 = get_nouns_in_poem(poem_1)\n",
        "print(nouns_1)\n",
        "noun_word_ids_1 = [x[0] for x in nouns_1]\n",
        "noun_word_ids_1"
      ],
      "metadata": {
        "colab": {
          "base_uri": "https://localhost:8080/"
        },
        "id": "dZj1vmlay5Ur",
        "outputId": "de896866-a3fa-492f-f301-eb6153737835"
      },
      "execution_count": 9,
      "outputs": [
        {
          "output_type": "stream",
          "name": "stdout",
          "text": [
            "[(1, 'chocolate'), (2, 'cookies'), (11, 'drink'), (14, 'treat'), (17, 'nut'), (21, 'spice'), (24, 'cream'), (35, 'flavor'), (40, 'treat')]\n"
          ]
        },
        {
          "output_type": "execute_result",
          "data": {
            "text/plain": [
              "[1, 2, 11, 14, 17, 21, 24, 35, 40]"
            ]
          },
          "metadata": {},
          "execution_count": 9
        }
      ]
    },
    {
      "cell_type": "code",
      "source": [
        "nouns_2 = get_nouns_in_poem(poem_2)\n",
        "print(nouns_2)\n",
        "noun_word_ids_2 = [x[0] for x in nouns_2]\n",
        "noun_word_ids_2"
      ],
      "metadata": {
        "colab": {
          "base_uri": "https://localhost:8080/"
        },
        "id": "xtseLXd69ESU",
        "outputId": "36c5b165-68e2-4cd7-c2d0-61c867ce883d"
      },
      "execution_count": 10,
      "outputs": [
        {
          "output_type": "stream",
          "name": "stdout",
          "text": [
            "[(3, 't'), (7, 'TV'), (9, 'years'), (12, 'people'), (18, 'fears'), (20, 'talk'), (23, 'news'), (24, 'i'), (28, 'dues'), (35, 'peers')]\n"
          ]
        },
        {
          "output_type": "execute_result",
          "data": {
            "text/plain": [
              "[3, 7, 9, 12, 18, 20, 23, 24, 28, 35]"
            ]
          },
          "metadata": {},
          "execution_count": 10
        }
      ]
    },
    {
      "cell_type": "code",
      "source": [
        "def filter_and_combine_embeddings(filter_word_ids, word_token_mapping, embeddings, verbose=False):\n",
        "    filtered_embeddings = []\n",
        "    for word_id in filter_word_ids:\n",
        "        tokens = word_token_mapping[word_id]\n",
        "        num_tokens = len(tokens)\n",
        "        if verbose:\n",
        "            print(f\"Found {num_tokens} for word {word_id}\")\n",
        "        avg_embedding = embeddings[tokens[0]]\n",
        "        for token_id in tokens[1:]:\n",
        "            avg_embedding += embeddings[token_id]\n",
        "        avg_embedding /= num_tokens\n",
        "        filtered_embeddings.append(avg_embedding.cpu().detach().numpy())\n",
        "    return filtered_embeddings"
      ],
      "metadata": {
        "id": "B2DeXsph6aC0"
      },
      "execution_count": 20,
      "outputs": []
    },
    {
      "cell_type": "code",
      "source": [
        "filtered_embeddings_1 = filter_and_combine_embeddings(noun_word_ids_1, word_token_mapping_1, embeddings_1, verbose=True)"
      ],
      "metadata": {
        "colab": {
          "base_uri": "https://localhost:8080/"
        },
        "id": "rwhDG9PQ8hsn",
        "outputId": "eaf5eaac-34f5-4a69-958a-3498131597b3"
      },
      "execution_count": 21,
      "outputs": [
        {
          "output_type": "stream",
          "name": "stdout",
          "text": [
            "Found 1 for word 1\n",
            "Found 1 for word 2\n",
            "Found 1 for word 11\n",
            "Found 1 for word 14\n",
            "Found 1 for word 17\n",
            "Found 1 for word 21\n",
            "Found 1 for word 24\n",
            "Found 1 for word 35\n",
            "Found 1 for word 40\n"
          ]
        }
      ]
    },
    {
      "cell_type": "code",
      "source": [
        "filtered_embeddings_2 = filter_and_combine_embeddings(noun_word_ids_2, word_token_mapping_2, embeddings_2, verbose=True)"
      ],
      "metadata": {
        "colab": {
          "base_uri": "https://localhost:8080/"
        },
        "id": "he-WKbvu86zt",
        "outputId": "8135a0b7-db64-4dc4-c70c-997fe94df520"
      },
      "execution_count": 22,
      "outputs": [
        {
          "output_type": "stream",
          "name": "stdout",
          "text": [
            "Found 1 for word 3\n",
            "Found 1 for word 7\n",
            "Found 1 for word 9\n",
            "Found 1 for word 12\n",
            "Found 1 for word 18\n",
            "Found 1 for word 20\n",
            "Found 1 for word 23\n",
            "Found 1 for word 24\n",
            "Found 2 for word 28\n",
            "Found 1 for word 35\n"
          ]
        }
      ]
    },
    {
      "cell_type": "code",
      "source": [
        "def calculate_centroid(embeddings):\n",
        "    num_points = len(embeddings)\n",
        "    sum = np.zeros(len(embeddings[0]))\n",
        "    for i in range(num_points):\n",
        "        sum += embeddings[i]\n",
        "    centroid = sum / num_points\n",
        "    return centroid\n",
        "\n",
        "def get_distances_from_centroid(centroid, embeddings):\n",
        "    num_points = len(embeddings)\n",
        "    distances = []\n",
        "    for embedding in embeddings:\n",
        "        diff = centroid - embedding\n",
        "        distance = np.linalg.norm(diff)\n",
        "        distances.append(distance)\n",
        "    return np.array(distances)"
      ],
      "metadata": {
        "id": "23Tl7Rsv9Wq4"
      },
      "execution_count": 116,
      "outputs": []
    },
    {
      "cell_type": "code",
      "source": [
        "centroid_1 = calculate_centroid(filtered_embeddings_1)\n",
        "distances_1 = get_distances_from_centroid(centroid_1, filtered_embeddings_1)\n",
        "print(distances_1)\n",
        "print(distances_1.mean())\n",
        "print(distances_1.std())"
      ],
      "metadata": {
        "colab": {
          "base_uri": "https://localhost:8080/"
        },
        "id": "csnzqrwVAX9Z",
        "outputId": "60d5acc6-74ec-4068-8524-b816545d7763"
      },
      "execution_count": 122,
      "outputs": [
        {
          "output_type": "stream",
          "name": "stdout",
          "text": [
            "[1.56146215e-06 2.75214153e+01 2.64334879e+01 2.41543464e+01\n",
            " 2.59398194e+01 2.54655042e+01 2.64761213e+01 2.55315525e+01\n",
            " 3.08485197e+01]\n",
            "23.596752033668757\n",
            "8.525596429710955\n"
          ]
        }
      ]
    },
    {
      "cell_type": "code",
      "source": [
        "centroid_2 = calculate_centroid(filtered_embeddings_2)\n",
        "distances_2 = get_distances_from_centroid(centroid_2, filtered_embeddings_2)\n",
        "distances_2\n",
        "print(distances_2.mean())\n",
        "print(distances_2.std())"
      ],
      "metadata": {
        "colab": {
          "base_uri": "https://localhost:8080/"
        },
        "id": "dKMnHj6YAo_2",
        "outputId": "b28b6eea-5504-4716-d2c6-ec98190e10b7"
      },
      "execution_count": 123,
      "outputs": [
        {
          "output_type": "stream",
          "name": "stdout",
          "text": [
            "28.036665230574545\n",
            "2.4451470461582705\n"
          ]
        }
      ]
    },
    {
      "cell_type": "markdown",
      "source": [
        "# Try on many poems"
      ],
      "metadata": {
        "id": "PqpiXoe3OJ5M"
      }
    },
    {
      "cell_type": "markdown",
      "source": [
        "###GPT2"
      ],
      "metadata": {
        "id": "pE6p6QOoQ0zo"
      }
    },
    {
      "cell_type": "code",
      "source": [
        "with open('sample.txt', 'r') as gpt2_poems_file:\n",
        "    gpt2_poems = gpt2_poems_file.read().split('\\n\\n')\n",
        "gpt2_poems = [poem for poem in gpt2_poems if len(poem) > 0]\n",
        "len(gpt2_poems)"
      ],
      "metadata": {
        "colab": {
          "base_uri": "https://localhost:8080/"
        },
        "id": "DiqT7dv9OMty",
        "outputId": "4d051de2-dc6a-46bd-e505-8ffbfe7009e9"
      },
      "execution_count": 160,
      "outputs": [
        {
          "output_type": "execute_result",
          "data": {
            "text/plain": [
              "4980"
            ]
          },
          "metadata": {},
          "execution_count": 160
        }
      ]
    },
    {
      "cell_type": "code",
      "source": [
        "print(gpt2_poems[0])"
      ],
      "metadata": {
        "colab": {
          "base_uri": "https://localhost:8080/"
        },
        "id": "0JhAw5InOe8Y",
        "outputId": "ad9e3c97-fce1-4869-dca0-e2b8005aea25"
      },
      "execution_count": 161,
      "outputs": [
        {
          "output_type": "stream",
          "name": "stdout",
          "text": [
            "beware! cayenne peppers are hot\n",
            "and chopped onion and cabbage you're not\n",
            "it's not hot (it's a sauce)\n",
            "you can blame for your loss\n",
            "here's, i say, just red sauce in your pot\n"
          ]
        }
      ]
    },
    {
      "cell_type": "code",
      "source": [
        "gpt2_poems_indices = random.sample(range(len(gpt2_poems)), 100)"
      ],
      "metadata": {
        "id": "yoLS0xBwQa58"
      },
      "execution_count": 162,
      "outputs": []
    },
    {
      "cell_type": "code",
      "source": [
        "gpt2_means = []\n",
        "gpt2_stds = []\n",
        "\n",
        "for gpt2_poem_index in gpt2_poems_indices:\n",
        "    gpt2_poem = gpt2_poems[gpt2_poem_index]\n",
        "\n",
        "    word_token_mapping, embeddings = get_token_embeddings(tokenizer, model, gpt2_poem)\n",
        "    noun_word_ids = [x[0] for x in get_nouns_in_poem(gpt2_poem)]\n",
        "    filtered_embeddings = filter_and_combine_embeddings(noun_word_ids, word_token_mapping, embeddings)\n",
        "\n",
        "    centroid = calculate_centroid(filtered_embeddings)\n",
        "    distances = get_distances_from_centroid(centroid, filtered_embeddings)\n",
        "\n",
        "    gpt2_means.append(distances.mean())\n",
        "    gpt2_stds.append(distances.std())"
      ],
      "metadata": {
        "id": "1NSK-sSeOhZp"
      },
      "execution_count": 163,
      "outputs": []
    },
    {
      "cell_type": "markdown",
      "source": [
        "###OEDILF"
      ],
      "metadata": {
        "id": "wGYaGMsVRtfq"
      }
    },
    {
      "cell_type": "code",
      "source": [
        "import json"
      ],
      "metadata": {
        "id": "OZrvmpgWRxSV"
      },
      "execution_count": 142,
      "outputs": []
    },
    {
      "cell_type": "code",
      "source": [
        "oedilf_file = open('limericks.json')\n",
        "json_data = json.load(oedilf_file)\n",
        "oedilf_poems = json_data['limericks']\n",
        "len(oedilf_poems)"
      ],
      "metadata": {
        "colab": {
          "base_uri": "https://localhost:8080/"
        },
        "id": "toTt3-X0OroJ",
        "outputId": "5707d723-91ad-435b-cf47-74b0a693f869"
      },
      "execution_count": 146,
      "outputs": [
        {
          "output_type": "execute_result",
          "data": {
            "text/plain": [
              "72432"
            ]
          },
          "metadata": {},
          "execution_count": 146
        }
      ]
    },
    {
      "cell_type": "code",
      "source": [
        "oedilf_poem_indices = random.sample(oedilf_poems.keys(), 100)"
      ],
      "metadata": {
        "id": "x3QmS4TNR5s6"
      },
      "execution_count": 155,
      "outputs": []
    },
    {
      "cell_type": "code",
      "source": [
        "oedilf_means = []\n",
        "oedilf_stds = []\n",
        "\n",
        "for oedilf_poem_index in oedilf_poem_indices:\n",
        "    oedilf_poem = '\\n'.join(oedilf_poems[oedilf_poem_index]['lines'])\n",
        "\n",
        "    word_token_mapping, embeddings = get_token_embeddings(tokenizer, model, oedilf_poem)\n",
        "    noun_word_ids = [x[0] for x in get_nouns_in_poem(oedilf_poem)]\n",
        "    filtered_embeddings = filter_and_combine_embeddings(noun_word_ids, word_token_mapping, embeddings)\n",
        "\n",
        "    centroid = calculate_centroid(filtered_embeddings)\n",
        "    distances = get_distances_from_centroid(centroid, filtered_embeddings)\n",
        "\n",
        "    oedilf_means.append(distances.mean())\n",
        "    oedilf_stds.append(distances.std())"
      ],
      "metadata": {
        "id": "eC2JAGZ-TXbE"
      },
      "execution_count": 165,
      "outputs": []
    },
    {
      "cell_type": "markdown",
      "source": [
        "# Plot results"
      ],
      "metadata": {
        "id": "-vZfrWbnXTSi"
      }
    },
    {
      "cell_type": "code",
      "source": [
        "import matplotlib.pyplot as plt\n",
        "plt.scatter(gpt2_means, gpt2_stds, label='AI Poet')\n",
        "plt.scatter(oedilf_means, oedilf_stds, label='OEDILF')\n",
        "plt.title('Mean and Std.dev. of poem-wise noun to centroid distances')\n",
        "plt.xlabel(\"Mean noun to centroid distance\")\n",
        "plt.ylabel(\"Std.dev. of noun to centroid distance\")\n",
        "plt.legend()\n",
        "plt.rcParams['figure.figsize'] = [10, 5]\n",
        "plt.show()"
      ],
      "metadata": {
        "colab": {
          "base_uri": "https://localhost:8080/",
          "height": 350
        },
        "id": "M4TNTi4BUfjR",
        "outputId": "5bbfe550-37f6-48e9-b344-56448b840292"
      },
      "execution_count": 184,
      "outputs": [
        {
          "output_type": "display_data",
          "data": {
            "text/plain": [
              "<Figure size 720x360 with 1 Axes>"
            ],
            "image/png": "[encoded data removed]"
          },
          "metadata": {
            "needs_background": "light"
          }
        }
      ]
    },
    {
      "cell_type": "code",
      "source": [
        "import scipy"
      ],
      "metadata": {
        "id": "aZx_kCVgZMV3"
      },
      "execution_count": 183,
      "outputs": []
    },
    {
      "cell_type": "code",
      "source": [
        "scipy.stats.ttest_ind(oedilf_means, gpt2_means, axis=0, equal_var=False)"
      ],
      "metadata": {
        "colab": {
          "base_uri": "https://localhost:8080/"
        },
        "id": "-q_kkyp4Ycz3",
        "outputId": "43d6ada3-4340-4fc2-84e6-e4c293f68e96"
      },
      "execution_count": 170,
      "outputs": [
        {
          "output_type": "execute_result",
          "data": {
            "text/plain": [
              "Ttest_indResult(statistic=0.8907533175738802, pvalue=0.3741811939324292)"
            ]
          },
          "metadata": {},
          "execution_count": 170
        }
      ]
    },
    {
      "cell_type": "code",
      "source": [
        ""
      ],
      "metadata": {
        "id": "SwRd3LemZSNM"
      },
      "execution_count": null,
      "outputs": []
    }
  ]
}