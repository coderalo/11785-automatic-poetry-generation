{
  "nbformat": 4,
  "nbformat_minor": 0,
  "metadata": {
    "colab": {
      "name": "BERT_embeddings.ipynb",
      "provenance": [],
      "collapsed_sections": []
    },
    "kernelspec": {
      "name": "python3",
      "display_name": "Python 3"
    },
    "language_info": {
      "name": "python"
    }
  },
  "cells": [
    {
      "cell_type": "markdown",
      "source": [
        "# Experimental: Extract BERT embeddings for each noun in a poem\n",
        "\n",
        "To see if we can find any correlation of subject continuity and word embeddings of all of a poem's nouns, I put together some code together to lay the ground work for that.\n",
        "\n",
        "First, I implemented a function that takes a poem and outputs the BERT embedding for each token.\n",
        "Second, there is another function that extracts all nouns (and their word index) from a poem.\n",
        "\n",
        "Note that BERT operates on subword basis: While most of the common English words are a token as themselves, less common words (e.g. \"embeddings\") are split up into multiple tokens. In the most extreme case, each character of a word is a token in itself.\n",
        "\n",
        "Hence, BERT might output multiple token embeddings for a given word. To get all the token embeddings of a given word, the function `get_token_embeddings` outputs besides the actual embeddings also a mapping, so that we can reconstruct which embedding belongs to which token, and which tokens belong to which word in the input.\n",
        "\n",
        "Similarly, the function `get_nouns_in_poem` does not only output the nouns themselves, but also their indexes in the original poem, so that we can simply fetch all token embeddings that belong to some noun.\n",
        "\n",
        "Here is a useful tutorial about how to get the word embeddings from BERT (I copied a lot of stuff from there):\n",
        "https://mccormickml.com/2019/05/14/BERT-word-embeddings-tutorial/"
      ],
      "metadata": {
        "id": "9e9qTAf2-ELF"
      }
    },
    {
      "cell_type": "code",
      "execution_count": null,
      "metadata": {
        "id": "T0jrzLO7qUd6"
      },
      "outputs": [],
      "source": [
        "!pip install transformers\n",
        "import torch\n",
        "import numpy as np\n",
        "import random\n",
        "from transformers import BertTokenizerFast, BertModel\n",
        "import nltk\n",
        "nltk.download('stopwords')\n",
        "nltk.download('wordnet')\n",
        "nltk.download('punkt')\n",
        "nltk.download('averaged_perceptron_tagger')\n",
        "nltk.download('treebank')"
      ]
    },
    {
      "cell_type": "code",
      "source": [
        "tokenizer = BertTokenizerFast.from_pretrained('bert-base-uncased')\n",
        "model = BertModel.from_pretrained('bert-base-uncased', output_hidden_states = True)"
      ],
      "metadata": {
        "id": "Dom7-2XKqZ9D"
      },
      "execution_count": null,
      "outputs": []
    },
    {
      "cell_type": "code",
      "source": [
        "def get_token_embeddings(tokenizer, model, poem):\n",
        "    \"\"\"Retrieve the BERT embedding of each token in a poem\n",
        "\n",
        "    :param tokenizer: BERT Fast tokenizer\n",
        "    :param model: BERT pre-trained model\n",
        "    :param poem: poem as a single string\n",
        "    :return: (mapping of word index to token, embeddings for each token)\n",
        "    \"\"\"\n",
        "    # Tokenize the poem\n",
        "    marked_poem = \"[CLS] \" + poem + \" [SEP]\"\n",
        "    bert_tokenized_poem = tokenizer.tokenize(marked_poem)\n",
        "\n",
        "    # Get the word to token ID mapping\n",
        "    encoded_poem = tokenizer(poem)\n",
        "    word_ids = encoded_poem.word_ids()\n",
        "    word_to_token = list(zip(word_ids, bert_tokenized_poem))[1:-1]\n",
        "\n",
        "    num_words = word_to_token[-1][0] + 1\n",
        "    word_token_mapping = [[] for _ in range(num_words)]\n",
        "\n",
        "    for token_index, (word_id, token) in enumerate(word_to_token):\n",
        "        word_token_mapping[word_id].append(token_index)\n",
        "\n",
        "    # Get all hidden states\n",
        "    indexed_tokens = tokenizer.convert_tokens_to_ids(bert_tokenized_poem)\n",
        "    segment_ids = [1] * len(bert_tokenized_poem)\n",
        "\n",
        "    tokens_tensor = torch.tensor([indexed_tokens])\n",
        "    segments_tensors = torch.tensor([segment_ids])\n",
        "\n",
        "    model.eval()\n",
        "    with torch.no_grad():\n",
        "        outputs = model(tokens_tensor, segments_tensors)\n",
        "    hidden_states = torch.stack(outputs[2], dim=0).squeeze(dim=1).permute(1,0,2)\n",
        "\n",
        "    # Concat last four layers as final embedding\n",
        "    embeddings = []\n",
        "    for token in hidden_states[1:-1]:\n",
        "        last_four_layers = torch.cat([token[-i] for i in range(1, 5)], dim=0)\n",
        "        embeddings.append(last_four_layers)\n",
        "    \n",
        "    return word_token_mapping, embeddings"
      ],
      "metadata": {
        "id": "7rRuHWEV5rP3"
      },
      "execution_count": 25,
      "outputs": []
    },
    {
      "cell_type": "markdown",
      "source": [
        "## Example 1: Each word consists only of one token"
      ],
      "metadata": {
        "id": "0_TPJW4a_h4e"
      }
    },
    {
      "cell_type": "code",
      "source": [
        "poem_1 = \"\"\"\n",
        "although chocolate cookies are sweet\n",
        "used for jelly, a warm drink or a treat\n",
        "with some nut, and some spice\n",
        "and some cream. if it’s nice\n",
        "it’s the flavor that makes you a treat\n",
        "\"\"\""
      ],
      "metadata": {
        "id": "drMaoKbgrFGE"
      },
      "execution_count": 26,
      "outputs": []
    },
    {
      "cell_type": "code",
      "source": [
        "word_token_mapping_1, embeddings_1 = get_token_embeddings(tokenizer, model, poem_1)\n",
        "\n",
        "print(f\"Number of tokens: {len(embeddings_1)}\")\n",
        "print(f\"Shape of each embedding: {embeddings_1[0].shape}\\n\")\n",
        "\n",
        "word_token_mapping_1"
      ],
      "metadata": {
        "colab": {
          "base_uri": "https://localhost:8080/"
        },
        "id": "3wXZRmyi3Kj0",
        "outputId": "4d20e6a0-78e7-4f9d-8822-965ba2423ec5"
      },
      "execution_count": 27,
      "outputs": [
        {
          "output_type": "stream",
          "name": "stdout",
          "text": [
            "Number of tokens: 41\n",
            "Shape of each embedding: torch.Size([3072])\n",
            "\n"
          ]
        },
        {
          "output_type": "execute_result",
          "data": {
            "text/plain": [
              "[[0],\n",
              " [1],\n",
              " [2],\n",
              " [3],\n",
              " [4],\n",
              " [5],\n",
              " [6],\n",
              " [7],\n",
              " [8],\n",
              " [9],\n",
              " [10],\n",
              " [11],\n",
              " [12],\n",
              " [13],\n",
              " [14],\n",
              " [15],\n",
              " [16],\n",
              " [17],\n",
              " [18],\n",
              " [19],\n",
              " [20],\n",
              " [21],\n",
              " [22],\n",
              " [23],\n",
              " [24],\n",
              " [25],\n",
              " [26],\n",
              " [27],\n",
              " [28],\n",
              " [29],\n",
              " [30],\n",
              " [31],\n",
              " [32],\n",
              " [33],\n",
              " [34],\n",
              " [35],\n",
              " [36],\n",
              " [37],\n",
              " [38],\n",
              " [39],\n",
              " [40]]"
            ]
          },
          "metadata": {},
          "execution_count": 27
        }
      ]
    },
    {
      "cell_type": "markdown",
      "source": [
        "# Example 2: Words that consist of multiple tokens"
      ],
      "metadata": {
        "id": "xH1fvk0i_wQQ"
      }
    },
    {
      "cell_type": "code",
      "source": [
        "poem_2 = \"\"\"\n",
        "I haven’t switched on my TV for years\n",
        "we have people like me, and my fears\n",
        "i talk to the news\n",
        "i am paying my dues\n",
        "rarely and loudly despise all my peers\n",
        "\"\"\""
      ],
      "metadata": {
        "id": "ZDVu-8A9_nZD"
      },
      "execution_count": 28,
      "outputs": []
    },
    {
      "cell_type": "code",
      "source": [
        "word_token_mapping_2, embeddings_2 = get_token_embeddings(tokenizer, model, poem_2)\n",
        "\n",
        "print(f\"Number of tokens: {len(embeddings_2)}\")\n",
        "print(f\"Shape of each embedding: {embeddings_2[0].shape}\\n\")\n",
        "\n",
        "word_token_mapping_2"
      ],
      "metadata": {
        "colab": {
          "base_uri": "https://localhost:8080/"
        },
        "id": "FBVsCFnX_r9m",
        "outputId": "977c4dac-3796-4b97-c8b2-cd60071e69dd"
      },
      "execution_count": 29,
      "outputs": [
        {
          "output_type": "stream",
          "name": "stdout",
          "text": [
            "Number of tokens: 39\n",
            "Shape of each embedding: torch.Size([3072])\n",
            "\n"
          ]
        },
        {
          "output_type": "execute_result",
          "data": {
            "text/plain": [
              "[[0],\n",
              " [1],\n",
              " [2],\n",
              " [3],\n",
              " [4],\n",
              " [5],\n",
              " [6],\n",
              " [7],\n",
              " [8],\n",
              " [9],\n",
              " [10],\n",
              " [11],\n",
              " [12],\n",
              " [13],\n",
              " [14],\n",
              " [15],\n",
              " [16],\n",
              " [17],\n",
              " [18],\n",
              " [19],\n",
              " [20],\n",
              " [21],\n",
              " [22],\n",
              " [23],\n",
              " [24],\n",
              " [25],\n",
              " [26],\n",
              " [27],\n",
              " [28, 29],\n",
              " [30],\n",
              " [31],\n",
              " [32],\n",
              " [33, 34, 35],\n",
              " [36],\n",
              " [37],\n",
              " [38]]"
            ]
          },
          "metadata": {},
          "execution_count": 29
        }
      ]
    },
    {
      "cell_type": "markdown",
      "source": [
        "# Extracting nouns and their word indexes from poem"
      ],
      "metadata": {
        "id": "ptZ7yY8XAC32"
      }
    },
    {
      "cell_type": "code",
      "source": [
        "# from https://stackoverflow.com/questions/33587667/extracting-all-nouns-from-a-text-file-using-nltk\n",
        "# thought about using Rami's code from the lexical diversity but it seemed overkill for what I needed\n",
        "\n",
        "def get_nouns_in_poem(poem):\n",
        "    \"\"\"Extract all nouns and their word index from a poem\n",
        "\n",
        "    :param poem: One poem as a single string\n",
        "    :return: list of tuples: (word index, noun as string)\n",
        "    \"\"\"\n",
        "    is_noun = lambda pos: pos[:2] == 'NN'\n",
        "    nltk_tokenized_poem = nltk.word_tokenize(poem)\n",
        "    nouns = [(i, word) for i, (word, pos) in enumerate(nltk.pos_tag(nltk_tokenized_poem)) if is_noun(pos)]\n",
        "    return nouns"
      ],
      "metadata": {
        "id": "0f5ngkHw48aJ"
      },
      "execution_count": 30,
      "outputs": []
    },
    {
      "cell_type": "code",
      "source": [
        "nouns_1 = get_nouns_in_poem(poem_1)\n",
        "print(nouns_1)\n",
        "noun_word_ids_1 = [x[0] for x in nouns_1]\n",
        "noun_word_ids_1"
      ],
      "metadata": {
        "colab": {
          "base_uri": "https://localhost:8080/"
        },
        "id": "dZj1vmlay5Ur",
        "outputId": "2dcfb8f4-4f62-43e0-9e9e-f0865db118ca"
      },
      "execution_count": 31,
      "outputs": [
        {
          "output_type": "stream",
          "name": "stdout",
          "text": [
            "[(1, 'chocolate'), (2, 'cookies'), (11, 'drink'), (14, 'treat'), (17, 'nut'), (21, 'spice'), (24, 'cream'), (35, 'flavor'), (40, 'treat')]\n"
          ]
        },
        {
          "output_type": "execute_result",
          "data": {
            "text/plain": [
              "[1, 2, 11, 14, 17, 21, 24, 35, 40]"
            ]
          },
          "metadata": {},
          "execution_count": 31
        }
      ]
    },
    {
      "cell_type": "code",
      "source": [
        "nouns_2 = get_nouns_in_poem(poem_2)\n",
        "print(nouns_2)\n",
        "noun_word_ids_2 = [x[0] for x in nouns_2]\n",
        "noun_word_ids_2"
      ],
      "metadata": {
        "colab": {
          "base_uri": "https://localhost:8080/"
        },
        "id": "xtseLXd69ESU",
        "outputId": "381cda0a-7c60-4b2b-e825-322f59bf2b73"
      },
      "execution_count": 32,
      "outputs": [
        {
          "output_type": "stream",
          "name": "stdout",
          "text": [
            "[(3, 't'), (7, 'TV'), (9, 'years'), (12, 'people'), (18, 'fears'), (20, 'talk'), (23, 'news'), (24, 'i'), (28, 'dues'), (35, 'peers')]\n"
          ]
        },
        {
          "output_type": "execute_result",
          "data": {
            "text/plain": [
              "[3, 7, 9, 12, 18, 20, 23, 24, 28, 35]"
            ]
          },
          "metadata": {},
          "execution_count": 32
        }
      ]
    },
    {
      "cell_type": "code",
      "source": [
        "def filter_and_combine_embeddings(filter_word_ids, word_token_mapping, embeddings, verbose=False):\n",
        "    filtered_embeddings = []\n",
        "    for word_id in filter_word_ids:\n",
        "        tokens = word_token_mapping[word_id]\n",
        "        num_tokens = len(tokens)\n",
        "        if verbose:\n",
        "            print(f\"Found {num_tokens} for word {word_id}\")\n",
        "        avg_embedding = embeddings[tokens[0]]\n",
        "        for token_id in tokens[1:]:\n",
        "            avg_embedding += embeddings[token_id]\n",
        "        avg_embedding /= num_tokens\n",
        "        filtered_embeddings.append(avg_embedding.cpu().detach().numpy())\n",
        "    return filtered_embeddings"
      ],
      "metadata": {
        "id": "B2DeXsph6aC0"
      },
      "execution_count": 33,
      "outputs": []
    },
    {
      "cell_type": "code",
      "source": [
        "filtered_embeddings_1 = filter_and_combine_embeddings(noun_word_ids_1, word_token_mapping_1, embeddings_1, verbose=True)"
      ],
      "metadata": {
        "colab": {
          "base_uri": "https://localhost:8080/"
        },
        "id": "rwhDG9PQ8hsn",
        "outputId": "a0dbc76b-6431-4c02-a0dc-d642af49c41d"
      },
      "execution_count": 34,
      "outputs": [
        {
          "output_type": "stream",
          "name": "stdout",
          "text": [
            "Found 1 for word 1\n",
            "Found 1 for word 2\n",
            "Found 1 for word 11\n",
            "Found 1 for word 14\n",
            "Found 1 for word 17\n",
            "Found 1 for word 21\n",
            "Found 1 for word 24\n",
            "Found 1 for word 35\n",
            "Found 1 for word 40\n"
          ]
        }
      ]
    },
    {
      "cell_type": "code",
      "source": [
        "filtered_embeddings_2 = filter_and_combine_embeddings(noun_word_ids_2, word_token_mapping_2, embeddings_2, verbose=True)"
      ],
      "metadata": {
        "colab": {
          "base_uri": "https://localhost:8080/"
        },
        "id": "he-WKbvu86zt",
        "outputId": "ed23d647-ac21-4fd8-adf8-f1167f76cf3b"
      },
      "execution_count": 35,
      "outputs": [
        {
          "output_type": "stream",
          "name": "stdout",
          "text": [
            "Found 1 for word 3\n",
            "Found 1 for word 7\n",
            "Found 1 for word 9\n",
            "Found 1 for word 12\n",
            "Found 1 for word 18\n",
            "Found 1 for word 20\n",
            "Found 1 for word 23\n",
            "Found 1 for word 24\n",
            "Found 2 for word 28\n",
            "Found 1 for word 35\n"
          ]
        }
      ]
    },
    {
      "cell_type": "code",
      "source": [
        "def calculate_centroid(embeddings):\n",
        "    num_points = len(embeddings)\n",
        "    sum = np.zeros(len(embeddings[0]))\n",
        "    for i in range(num_points):\n",
        "        sum += embeddings[i]\n",
        "    centroid = sum / num_points\n",
        "    return centroid\n",
        "\n",
        "def get_distances_from_centroid(centroid, embeddings):\n",
        "    num_points = len(embeddings)\n",
        "    distances = []\n",
        "    for embedding in embeddings:\n",
        "        diff = centroid - embedding\n",
        "        distance = np.linalg.norm(diff)\n",
        "        distances.append(distance)\n",
        "    return np.array(distances)"
      ],
      "metadata": {
        "id": "23Tl7Rsv9Wq4"
      },
      "execution_count": 36,
      "outputs": []
    },
    {
      "cell_type": "code",
      "source": [
        "centroid_1 = calculate_centroid(filtered_embeddings_1)\n",
        "distances_1 = get_distances_from_centroid(centroid_1, filtered_embeddings_1)\n",
        "print(distances_1)\n",
        "print(distances_1.mean())\n",
        "print(distances_1.std())"
      ],
      "metadata": {
        "colab": {
          "base_uri": "https://localhost:8080/"
        },
        "id": "csnzqrwVAX9Z",
        "outputId": "9687cdeb-cb80-4a55-f78f-87ff15e3dab8"
      },
      "execution_count": 37,
      "outputs": [
        {
          "output_type": "stream",
          "name": "stdout",
          "text": [
            "[27.58996954 25.84086451 26.95480068 24.9808071  26.2617467  26.44083853\n",
            " 26.61875308 25.89868637 31.21111623]\n",
            "26.866398083056943\n",
            "1.6852173345413741\n"
          ]
        }
      ]
    },
    {
      "cell_type": "code",
      "source": [
        "centroid_2 = calculate_centroid(filtered_embeddings_2)\n",
        "distances_2 = get_distances_from_centroid(centroid_2, filtered_embeddings_2)\n",
        "distances_2\n",
        "print(distances_2.mean())\n",
        "print(distances_2.std())"
      ],
      "metadata": {
        "colab": {
          "base_uri": "https://localhost:8080/"
        },
        "id": "dKMnHj6YAo_2",
        "outputId": "f7dff87e-436f-49a9-e8da-1e7d94cec317"
      },
      "execution_count": 38,
      "outputs": [
        {
          "output_type": "stream",
          "name": "stdout",
          "text": [
            "27.91273526889272\n",
            "2.5649271327704737\n"
          ]
        }
      ]
    },
    {
      "cell_type": "markdown",
      "source": [
        "# Try on many poems"
      ],
      "metadata": {
        "id": "PqpiXoe3OJ5M"
      }
    },
    {
      "cell_type": "markdown",
      "source": [
        "###GPT2"
      ],
      "metadata": {
        "id": "pE6p6QOoQ0zo"
      }
    },
    {
      "cell_type": "code",
      "source": [
        "with open('sample.txt', 'r') as gpt2_poems_file:\n",
        "    gpt2_poems = gpt2_poems_file.read().split('\\n\\n')\n",
        "gpt2_poems = [poem for poem in gpt2_poems if len(poem) > 0]\n",
        "len(gpt2_poems)"
      ],
      "metadata": {
        "colab": {
          "base_uri": "https://localhost:8080/"
        },
        "id": "DiqT7dv9OMty",
        "outputId": "a49c9513-3c87-4bf3-9207-2b8ed40bb66e"
      },
      "execution_count": 39,
      "outputs": [
        {
          "output_type": "execute_result",
          "data": {
            "text/plain": [
              "4980"
            ]
          },
          "metadata": {},
          "execution_count": 39
        }
      ]
    },
    {
      "cell_type": "code",
      "source": [
        "print(gpt2_poems[0])"
      ],
      "metadata": {
        "colab": {
          "base_uri": "https://localhost:8080/"
        },
        "id": "0JhAw5InOe8Y",
        "outputId": "7e5f169d-9039-46ce-8e8d-64fe14bab654"
      },
      "execution_count": 40,
      "outputs": [
        {
          "output_type": "stream",
          "name": "stdout",
          "text": [
            "beware! cayenne peppers are hot\n",
            "and chopped onion and cabbage you're not\n",
            "it's not hot (it's a sauce)\n",
            "you can blame for your loss\n",
            "here's, i say, just red sauce in your pot\n"
          ]
        }
      ]
    },
    {
      "cell_type": "code",
      "source": [
        "gpt2_poems_indices = random.sample(range(len(gpt2_poems)), 100)"
      ],
      "metadata": {
        "id": "yoLS0xBwQa58"
      },
      "execution_count": 41,
      "outputs": []
    },
    {
      "cell_type": "code",
      "source": [
        "gpt2_means = []\n",
        "gpt2_stds = []\n",
        "\n",
        "for gpt2_poem_index in gpt2_poems_indices:\n",
        "    gpt2_poem = gpt2_poems[gpt2_poem_index]\n",
        "\n",
        "    word_token_mapping, embeddings = get_token_embeddings(tokenizer, model, gpt2_poem)\n",
        "    noun_word_ids = [x[0] for x in get_nouns_in_poem(gpt2_poem)]\n",
        "    filtered_embeddings = filter_and_combine_embeddings(noun_word_ids, word_token_mapping, embeddings)\n",
        "\n",
        "    centroid = calculate_centroid(filtered_embeddings)\n",
        "    distances = get_distances_from_centroid(centroid, filtered_embeddings)\n",
        "\n",
        "    gpt2_means.append(distances.mean())\n",
        "    gpt2_stds.append(distances.std())"
      ],
      "metadata": {
        "id": "1NSK-sSeOhZp"
      },
      "execution_count": 42,
      "outputs": []
    },
    {
      "cell_type": "markdown",
      "source": [
        "###OEDILF"
      ],
      "metadata": {
        "id": "wGYaGMsVRtfq"
      }
    },
    {
      "cell_type": "code",
      "source": [
        "import json"
      ],
      "metadata": {
        "id": "OZrvmpgWRxSV"
      },
      "execution_count": 43,
      "outputs": []
    },
    {
      "cell_type": "code",
      "source": [
        "oedilf_file = open('limericks.json')\n",
        "json_data = json.load(oedilf_file)\n",
        "oedilf_poems = json_data['limericks']\n",
        "len(oedilf_poems)"
      ],
      "metadata": {
        "colab": {
          "base_uri": "https://localhost:8080/"
        },
        "id": "toTt3-X0OroJ",
        "outputId": "ceb50cdf-5889-4f94-ce4a-18d89678ab11"
      },
      "execution_count": 44,
      "outputs": [
        {
          "output_type": "execute_result",
          "data": {
            "text/plain": [
              "72432"
            ]
          },
          "metadata": {},
          "execution_count": 44
        }
      ]
    },
    {
      "cell_type": "code",
      "source": [
        "oedilf_poem_indices = random.sample(oedilf_poems.keys(), 100)"
      ],
      "metadata": {
        "id": "x3QmS4TNR5s6"
      },
      "execution_count": 45,
      "outputs": []
    },
    {
      "cell_type": "code",
      "source": [
        "oedilf_means = []\n",
        "oedilf_stds = []\n",
        "\n",
        "for oedilf_poem_index in oedilf_poem_indices:\n",
        "    oedilf_poem = '\\n'.join(oedilf_poems[oedilf_poem_index]['lines'])\n",
        "\n",
        "    word_token_mapping, embeddings = get_token_embeddings(tokenizer, model, oedilf_poem)\n",
        "    noun_word_ids = [x[0] for x in get_nouns_in_poem(oedilf_poem)]\n",
        "    filtered_embeddings = filter_and_combine_embeddings(noun_word_ids, word_token_mapping, embeddings)\n",
        "\n",
        "    centroid = calculate_centroid(filtered_embeddings)\n",
        "    distances = get_distances_from_centroid(centroid, filtered_embeddings)\n",
        "\n",
        "    oedilf_means.append(distances.mean())\n",
        "    oedilf_stds.append(distances.std())"
      ],
      "metadata": {
        "id": "eC2JAGZ-TXbE"
      },
      "execution_count": 46,
      "outputs": []
    },
    {
      "cell_type": "markdown",
      "source": [
        "# Plot results"
      ],
      "metadata": {
        "id": "-vZfrWbnXTSi"
      }
    },
    {
      "cell_type": "code",
      "source": [
        "import matplotlib.pyplot as plt\n",
        "plt.scatter(gpt2_means, gpt2_stds, label='AI Poet')\n",
        "plt.scatter(oedilf_means, oedilf_stds, label='OEDILF')\n",
        "plt.title('Mean and Std.dev. of poem-wise noun to centroid distances')\n",
        "plt.xlabel(\"Mean noun to centroid distance\")\n",
        "plt.ylabel(\"Std.dev. of noun to centroid distance\")\n",
        "plt.legend()\n",
        "plt.rcParams['figure.figsize'] = [10, 5]\n",
        "plt.show()"
      ],
      "metadata": {
        "colab": {
          "base_uri": "https://localhost:8080/",
          "height": 295
        },
        "id": "M4TNTi4BUfjR",
        "outputId": "22f72320-a74f-459e-e4ac-73d3ad1f238b"
      },
      "execution_count": 47,
      "outputs": [
        {
          "output_type": "display_data",
          "data": {
            "text/plain": [
              "<Figure size 432x288 with 1 Axes>"
            ],
            "image/png": "[encoded data removed]"
          },
          "metadata": {
            "needs_background": "light"
          }
        }
      ]
    },
    {
      "cell_type": "code",
      "source": [
        "import scipy"
      ],
      "metadata": {
        "id": "aZx_kCVgZMV3"
      },
      "execution_count": 48,
      "outputs": []
    },
    {
      "cell_type": "code",
      "source": [
        "scipy.stats.ttest_ind(oedilf_means, gpt2_means, axis=0, equal_var=False)"
      ],
      "metadata": {
        "colab": {
          "base_uri": "https://localhost:8080/"
        },
        "id": "-q_kkyp4Ycz3",
        "outputId": "7d347da8-11f0-4801-d22f-b230b82baa41"
      },
      "execution_count": 49,
      "outputs": [
        {
          "output_type": "execute_result",
          "data": {
            "text/plain": [
              "Ttest_indResult(statistic=1.392847677226235, pvalue=0.16580832947082838)"
            ]
          },
          "metadata": {},
          "execution_count": 49
        }
      ]
    },
    {
      "cell_type": "code",
      "source": [
        "for i, mean in enumerate(gpt2_means):\n",
        "    if mean < 15:\n",
        "        print(i, mean)\n",
        "        print(gpt2_poems[gpt2_poems_indices[i]])\n",
        "        print()"
      ],
      "metadata": {
        "colab": {
          "base_uri": "https://localhost:8080/"
        },
        "id": "aTNRN7lKz1W1",
        "outputId": "a6ab9226-2ed0-4a79-9080-56cc04be1417"
      },
      "execution_count": 56,
      "outputs": [
        {
          "output_type": "stream",
          "name": "stdout",
          "text": [
            "47 14.7167372936548\n",
            "to blend is to merge or to mix\n",
            "to crystallify, to merge or to mix\n",
            "the solution is mixed\n",
            "by a liquid that's mixed\n",
            "to be meant to combine or to fix\n",
            "\n",
            "78 0.0\n",
            "you did what? well, i think you've been had\n",
            "does it make me sound awfully bad\n",
            "well, you see, you don't see\n",
            "now you look for a ford\n",
            "be had\n",
            "\n",
            "90 9.676024763790787\n",
            "to blend is to merge or to mix\n",
            "to mix a, then to add a to x\n",
            "a mix in a mix\n",
            "to merge and to mix\n",
            "to merge and to mix it to rex\n",
            "\n"
          ]
        }
      ]
    },
    {
      "cell_type": "code",
      "source": [
        "for i, std in enumerate(gpt2_stds):\n",
        "    if std > 8:\n",
        "        print(i, std)\n",
        "        print(gpt2_poems[gpt2_poems_indices[i]])\n",
        "        print()"
      ],
      "metadata": {
        "colab": {
          "base_uri": "https://localhost:8080/"
        },
        "id": "XGQM9DLE0pW7",
        "outputId": "affd7b41-583d-4dff-e793-8dac668bdc3e"
      },
      "execution_count": 57,
      "outputs": [
        {
          "output_type": "stream",
          "name": "stdout",
          "text": [
            "93 9.782315698661188\n",
            "there are two common meanings of cr?pe\n",
            "a cr?cr? which is the cr?pe\n",
            "a popsicle, say\n",
            "so just wipe it away\n",
            "a cr?a cr?a cr?a cr?cr, and cr?pe\n",
            "\n"
          ]
        }
      ]
    },
    {
      "cell_type": "markdown",
      "source": [
        "# WordNet Similarity"
      ],
      "metadata": {
        "id": "8FD8DPTwmcrg"
      }
    },
    {
      "cell_type": "code",
      "source": [
        "from nltk.corpus import wordnet as wn"
      ],
      "metadata": {
        "id": "SwRd3LemZSNM"
      },
      "execution_count": 50,
      "outputs": []
    },
    {
      "cell_type": "code",
      "source": [
        "nouns_1 = get_nouns_in_poem(poem_1)\n",
        "print(nouns_1)\n",
        "nouns_1 = [x[1] for x in nouns_1]\n",
        "nouns_1"
      ],
      "metadata": {
        "colab": {
          "base_uri": "https://localhost:8080/"
        },
        "id": "7XqIbT9ao5eu",
        "outputId": "a6a6befe-8942-4b0c-a5bb-a15189b0cd27"
      },
      "execution_count": 51,
      "outputs": [
        {
          "output_type": "stream",
          "name": "stdout",
          "text": [
            "[(1, 'chocolate'), (2, 'cookies'), (11, 'drink'), (14, 'treat'), (17, 'nut'), (21, 'spice'), (24, 'cream'), (35, 'flavor'), (40, 'treat')]\n"
          ]
        },
        {
          "output_type": "execute_result",
          "data": {
            "text/plain": [
              "['chocolate',\n",
              " 'cookies',\n",
              " 'drink',\n",
              " 'treat',\n",
              " 'nut',\n",
              " 'spice',\n",
              " 'cream',\n",
              " 'flavor',\n",
              " 'treat']"
            ]
          },
          "metadata": {},
          "execution_count": 51
        }
      ]
    },
    {
      "cell_type": "code",
      "source": [
        "def get_two_noun_distance(n1, n2, verbose=False, similarity_metric='path'):\n",
        "    assert(similarity_metric in ['path', 'lch', 'wup']), f\"Invalid similarity metric {similarity_metric}\"\n",
        "\n",
        "    if similarity_metric == 'path':\n",
        "        metric = wn.path_similarity\n",
        "    elif similarity_metric == 'lch':\n",
        "        metric = wn.lch_similarity\n",
        "    elif similarity_metric == 'wup':\n",
        "        metric = wn.wup_similarity\n",
        "\n",
        "    syns1, syns2 = wn.synsets(n1, pos=wn.NOUN), wn.synsets(n2, pos=wn.NOUN)\n",
        "    max_similarity = -1\n",
        "    for syn1 in syns1:\n",
        "        for syn2 in syns2:\n",
        "            similarity = metric(syn1, syn2)\n",
        "            max_similarity = max(max_similarity, similarity)\n",
        "    max_similarity = round(max_similarity,4)\n",
        "    if verbose:\n",
        "        print(f\"Distance between {n1} and {n2} is {max_similarity}\")\n",
        "\n",
        "    if max_similarity == -1:\n",
        "        # print(len(syns1), len(syns2), n1, n2)\n",
        "        return None\n",
        "\n",
        "    return max_similarity\n",
        "\n",
        "\n",
        "def get_avg_pairwise_noun_distance(nouns, verbose=False, similarity_metric='path'):\n",
        "    total_dist = 0\n",
        "    pairs = 0\n",
        "\n",
        "    for i in range(len(nouns)):\n",
        "        for j in range(i+1, len(nouns)):\n",
        "            if nouns[i] == nouns[j]:\n",
        "                continue\n",
        "            dist = get_two_noun_distance(nouns[i], nouns[j], verbose=verbose, similarity_metric=similarity_metric)\n",
        "            if dist:\n",
        "                total_dist += dist\n",
        "                pairs += 1\n",
        "\n",
        "    if pairs == 0:\n",
        "        return None\n",
        "\n",
        "    return total_dist / pairs"
      ],
      "metadata": {
        "id": "M6Ph0kP7o782"
      },
      "execution_count": 118,
      "outputs": []
    },
    {
      "cell_type": "code",
      "source": [
        "get_avg_pairwise_noun_distance(nouns_1, verbose=True)"
      ],
      "metadata": {
        "colab": {
          "base_uri": "https://localhost:8080/"
        },
        "id": "NMhVFMQiqPdy",
        "outputId": "15a67bcb-a839-4742-840e-4b9f46a193e2"
      },
      "execution_count": 119,
      "outputs": [
        {
          "output_type": "stream",
          "name": "stdout",
          "text": [
            "Distance between chocolate and cookies is 0.2\n",
            "Distance between chocolate and drink is 0.5\n",
            "Distance between chocolate and treat is 0.2\n",
            "Distance between chocolate and nut is 0.1\n",
            "Distance between chocolate and spice is 0.1429\n",
            "Distance between chocolate and cream is 0.1667\n",
            "Distance between chocolate and flavor is 0.0909\n",
            "Distance between chocolate and treat is 0.2\n",
            "Distance between cookies and drink is 0.1111\n",
            "Distance between cookies and treat is 0.1\n",
            "Distance between cookies and nut is 0.125\n",
            "Distance between cookies and spice is 0.0909\n",
            "Distance between cookies and cream is 0.0909\n",
            "Distance between cookies and flavor is 0.0833\n",
            "Distance between cookies and treat is 0.1\n",
            "Distance between drink and treat is 0.25\n",
            "Distance between drink and nut is 0.1111\n",
            "Distance between drink and spice is 0.1667\n",
            "Distance between drink and cream is 0.2\n",
            "Distance between drink and flavor is 0.0909\n",
            "Distance between drink and treat is 0.25\n",
            "Distance between treat and nut is 0.1\n",
            "Distance between treat and spice is 0.1429\n",
            "Distance between treat and cream is 0.1667\n",
            "Distance between treat and flavor is 0.1\n",
            "Distance between nut and spice is 0.1\n",
            "Distance between nut and cream is 0.1667\n",
            "Distance between nut and flavor is 0.0909\n",
            "Distance between nut and treat is 0.1\n",
            "Distance between spice and cream is 0.1667\n",
            "Distance between spice and flavor is 0.125\n",
            "Distance between spice and treat is 0.1429\n",
            "Distance between cream and flavor is 0.0833\n",
            "Distance between cream and treat is 0.1667\n",
            "Distance between flavor and treat is 0.1\n"
          ]
        },
        {
          "output_type": "execute_result",
          "data": {
            "text/plain": [
              "0.1463485714285714"
            ]
          },
          "metadata": {},
          "execution_count": 119
        }
      ]
    },
    {
      "cell_type": "markdown",
      "source": [
        "## Run Experiments\n",
        "https://www.nltk.org/howto/wordnet.html"
      ],
      "metadata": {
        "id": "53G3WZDt07oR"
      }
    },
    {
      "cell_type": "markdown",
      "source": [
        "### Path Similarity\n",
        "\n",
        "A score denoting how similar two word senses are, based on the shortest path that connects the senses in the is-a (hypernym/hypnoym) taxonomy. The score is in the range 0 to 1."
      ],
      "metadata": {
        "id": "UqxSeG4R7sKL"
      }
    },
    {
      "cell_type": "code",
      "source": [
        "gpt2_avg_path_dist = []\n",
        "\n",
        "for gpt2_poem_index in gpt2_poems_indices:\n",
        "    gpt2_poem = gpt2_poems[gpt2_poem_index]\n",
        "\n",
        "    nouns = get_nouns_in_poem(gpt2_poem)\n",
        "    nouns = [x[1] for x in nouns]\n",
        "\n",
        "    gpt2_avg_path_dist.append(get_avg_pairwise_noun_distance(nouns, similarity_metric='path'))\n",
        "\n",
        "gpt2_path_distances = [dist for dist in gpt2_avg_path_dist if dist is not None]\n",
        "len(gpt2_path_distances)"
      ],
      "metadata": {
        "id": "iOVAa3RVqhC8",
        "colab": {
          "base_uri": "https://localhost:8080/"
        },
        "outputId": "e7bfa895-92d0-45e4-eb83-2f2cfa4699a3"
      },
      "execution_count": 148,
      "outputs": [
        {
          "output_type": "execute_result",
          "data": {
            "text/plain": [
              "95"
            ]
          },
          "metadata": {},
          "execution_count": 148
        }
      ]
    },
    {
      "cell_type": "code",
      "source": [
        "oedilf_avg_path_dist = []\n",
        "\n",
        "for oedilf_poem_index in oedilf_poem_indices:\n",
        "    oedilf_poem = '\\n'.join(oedilf_poems[oedilf_poem_index]['lines'])\n",
        "\n",
        "    nouns = get_nouns_in_poem(oedilf_poem)\n",
        "    nouns = [x[1] for x in nouns]\n",
        "\n",
        "    oedilf_avg_path_dist.append(get_avg_pairwise_noun_distance(nouns, similarity_metric='path'))\n",
        "\n",
        "oedilf_path_distances = [dist for dist in oedilf_avg_path_dist if dist is not None]\n",
        "len(oedilf_path_distances)"
      ],
      "metadata": {
        "colab": {
          "base_uri": "https://localhost:8080/"
        },
        "id": "uQdru-3t4yyZ",
        "outputId": "8ae3c1bd-82a1-4c37-b7d2-c2cb29fc1d76"
      },
      "execution_count": 149,
      "outputs": [
        {
          "output_type": "execute_result",
          "data": {
            "text/plain": [
              "100"
            ]
          },
          "metadata": {},
          "execution_count": 149
        }
      ]
    },
    {
      "cell_type": "code",
      "source": [
        "plt.figure(figsize=(8,6))\n",
        "plt.hist(gpt2_path_distances, bins=100, alpha=0.5, label=\"AI Poet\")\n",
        "plt.hist(oedilf_path_distances, bins=100, alpha=0.5, label=\"OEDILF\")\n",
        "plt.xlabel(\"Average Pairwise Noun Similarities\", size=14)\n",
        "plt.ylabel(\"Count\", size=14)\n",
        "plt.title(\"Average Pairwise WordNet Path Similarities\")\n",
        "plt.legend(loc='upper right')\n",
        "plt.show()"
      ],
      "metadata": {
        "colab": {
          "base_uri": "https://localhost:8080/",
          "height": 408
        },
        "id": "gId7GUB93N-b",
        "outputId": "12ae5d08-158a-4544-e948-bd2737f85085"
      },
      "execution_count": 150,
      "outputs": [
        {
          "output_type": "display_data",
          "data": {
            "text/plain": [
              "<Figure size 576x432 with 1 Axes>"
            ],
            "image/png": "[encoded data removed]"
          },
          "metadata": {
            "needs_background": "light"
          }
        }
      ]
    },
    {
      "cell_type": "code",
      "source": [
        "scipy.stats.ttest_ind(oedilf_path_distances, gpt2_path_distances, axis=0, equal_var=False)"
      ],
      "metadata": {
        "colab": {
          "base_uri": "https://localhost:8080/"
        },
        "id": "cZ67XeQZ1xPd",
        "outputId": "7eb04d56-6383-43a7-99af-6a0138bcefa6"
      },
      "execution_count": 151,
      "outputs": [
        {
          "output_type": "execute_result",
          "data": {
            "text/plain": [
              "Ttest_indResult(statistic=-2.3668446660041167, pvalue=0.01919273714859066)"
            ]
          },
          "metadata": {},
          "execution_count": 151
        }
      ]
    },
    {
      "cell_type": "code",
      "source": [
        "for i, dist in enumerate(gpt2_avg_path_dist):\n",
        "    if dist and dist > 0.3:\n",
        "        print(i, dist)\n",
        "        print(gpt2_poems[gpt2_poems_indices[i]])\n",
        "        print()"
      ],
      "metadata": {
        "colab": {
          "base_uri": "https://localhost:8080/"
        },
        "id": "VbEuxRA71Y7L",
        "outputId": "34a2df97-e69e-486c-94d6-abebab94c224"
      },
      "execution_count": 152,
      "outputs": [
        {
          "output_type": "stream",
          "name": "stdout",
          "text": [
            "9 0.31965\n",
            "we had to imagine their faces\n",
            "and we thought we could not go to places\n",
            "if we'd done it, we thought\n",
            "on advice that we'd sought\n",
            "into stuff that went out of spaces\n",
            "\n",
            "61 0.47858\n",
            "long before modern nations were founded\n",
            "by the powers that truly astounded\n",
            "but the states they maligned\n",
            "where the folks were confined\n",
            "where power remained once propounded\n",
            "\n"
          ]
        }
      ]
    },
    {
      "cell_type": "markdown",
      "source": [
        "### LCH Similarity\n",
        "\n",
        "Leacock-Chodorow Similarity: A score denoting how similar two word senses are, based on the shortest path that connects the senses (as above) and the maximum depth of the taxonomy in which the senses occur. The relationship is given as -log(p/2d) where p is the shortest path length and d the taxonomy depth."
      ],
      "metadata": {
        "id": "ghTUy0b48NUC"
      }
    },
    {
      "cell_type": "code",
      "source": [
        "gpt2_avg_lch_dist = []\n",
        "\n",
        "for gpt2_poem_index in gpt2_poems_indices:\n",
        "    gpt2_poem = gpt2_poems[gpt2_poem_index]\n",
        "\n",
        "    nouns = get_nouns_in_poem(gpt2_poem)\n",
        "    nouns = [x[1] for x in nouns]\n",
        "\n",
        "    gpt2_avg_lch_dist.append(get_avg_pairwise_noun_distance(nouns, similarity_metric='lch'))\n",
        "\n",
        "gpt2_lch_distances = [dist for dist in gpt2_avg_lch_dist if dist is not None]\n",
        "len(gpt2_lch_distances)"
      ],
      "metadata": {
        "colab": {
          "base_uri": "https://localhost:8080/"
        },
        "id": "OTsQ-CIY6CjI",
        "outputId": "53895b34-3098-4e50-f04a-01825b06a1dc"
      },
      "execution_count": 156,
      "outputs": [
        {
          "output_type": "execute_result",
          "data": {
            "text/plain": [
              "95"
            ]
          },
          "metadata": {},
          "execution_count": 156
        }
      ]
    },
    {
      "cell_type": "code",
      "source": [
        "oedilf_avg_lch_dist = []\n",
        "\n",
        "for oedilf_poem_index in oedilf_poem_indices:\n",
        "    oedilf_poem = '\\n'.join(oedilf_poems[oedilf_poem_index]['lines'])\n",
        "\n",
        "    nouns = get_nouns_in_poem(oedilf_poem)\n",
        "    nouns = [x[1] for x in nouns]\n",
        "\n",
        "    oedilf_avg_lch_dist.append(get_avg_pairwise_noun_distance(nouns, similarity_metric='lch'))\n",
        "\n",
        "oedilf_lch_distances = [dist for dist in oedilf_avg_lch_dist if dist is not None]\n",
        "len(oedilf_lch_distances)"
      ],
      "metadata": {
        "colab": {
          "base_uri": "https://localhost:8080/"
        },
        "id": "vXQ6W7HW8WAT",
        "outputId": "cb419a7f-c877-4301-8e9d-3e2dd20a9c11"
      },
      "execution_count": 157,
      "outputs": [
        {
          "output_type": "execute_result",
          "data": {
            "text/plain": [
              "100"
            ]
          },
          "metadata": {},
          "execution_count": 157
        }
      ]
    },
    {
      "cell_type": "code",
      "source": [
        "plt.figure(figsize=(8,6))\n",
        "plt.hist(gpt2_lch_distances, bins=100, alpha=0.5, label=\"AI Poet\")\n",
        "plt.hist(oedilf_lch_distances, bins=100, alpha=0.5, label=\"OEDILF\")\n",
        "plt.xlabel(\"Average Pairwise Noun Similarity\", size=14)\n",
        "plt.ylabel(\"Count\", size=14)\n",
        "plt.title(\"Average Pairwise WordNet LCH Similarities\")\n",
        "plt.legend(loc='upper right')\n",
        "plt.show()"
      ],
      "metadata": {
        "colab": {
          "base_uri": "https://localhost:8080/",
          "height": 408
        },
        "id": "ORUxnUGe8Y5h",
        "outputId": "b94c8d99-d438-45be-be53-3e46b6bdd2aa"
      },
      "execution_count": 158,
      "outputs": [
        {
          "output_type": "display_data",
          "data": {
            "text/plain": [
              "<Figure size 576x432 with 1 Axes>"
            ],
            "image/png": "[encoded data removed]"
          },
          "metadata": {
            "needs_background": "light"
          }
        }
      ]
    },
    {
      "cell_type": "code",
      "source": [
        "scipy.stats.ttest_ind(oedilf_lch_distances, gpt2_lch_distances, axis=0, equal_var=False)"
      ],
      "metadata": {
        "colab": {
          "base_uri": "https://localhost:8080/"
        },
        "id": "qVofFNr38bXq",
        "outputId": "9c0ff3f9-816c-489b-aafa-c73c1b3c57e9"
      },
      "execution_count": 159,
      "outputs": [
        {
          "output_type": "execute_result",
          "data": {
            "text/plain": [
              "Ttest_indResult(statistic=-1.8194388318281343, pvalue=0.07055699833632093)"
            ]
          },
          "metadata": {},
          "execution_count": 159
        }
      ]
    },
    {
      "cell_type": "code",
      "source": [
        "for i, dist in enumerate(gpt2_avg_lch_dist):\n",
        "    if dist and dist > 2.5:\n",
        "        print(i, dist)\n",
        "        print(gpt2_poems[gpt2_poems_indices[i]])\n",
        "        print()"
      ],
      "metadata": {
        "colab": {
          "base_uri": "https://localhost:8080/"
        },
        "id": "333LY0jh8nWM",
        "outputId": "fafce67f-c108-4f55-924e-5299badf9f74"
      },
      "execution_count": 160,
      "outputs": [
        {
          "output_type": "stream",
          "name": "stdout",
          "text": [
            "61 2.6821\n",
            "long before modern nations were founded\n",
            "by the powers that truly astounded\n",
            "but the states they maligned\n",
            "where the folks were confined\n",
            "where power remained once propounded\n",
            "\n"
          ]
        }
      ]
    },
    {
      "cell_type": "markdown",
      "source": [
        "### WUP Similarity\n",
        "\n",
        "Wu-Palmer Similarity: A score denoting how similar two word senses are, based on the depth of the two senses in the taxonomy and that of their Least Common Subsumer (most specific ancestor node). "
      ],
      "metadata": {
        "id": "QuYrfw1Y9Rs2"
      }
    },
    {
      "cell_type": "code",
      "source": [
        "gpt2_avg_wup_dist = []\n",
        "\n",
        "for gpt2_poem_index in gpt2_poems_indices:\n",
        "    gpt2_poem = gpt2_poems[gpt2_poem_index]\n",
        "\n",
        "    nouns = get_nouns_in_poem(gpt2_poem)\n",
        "    nouns = [x[1] for x in nouns]\n",
        "\n",
        "    gpt2_avg_wup_dist.append(get_avg_pairwise_noun_distance(nouns, similarity_metric='wup'))\n",
        "\n",
        "gpt2_wup_distances = [dist for dist in gpt2_avg_wup_dist if dist is not None]\n",
        "len(gpt2_wup_distances)"
      ],
      "metadata": {
        "colab": {
          "base_uri": "https://localhost:8080/"
        },
        "id": "dmRFfzcv8-5y",
        "outputId": "e60c15fb-d877-4fe4-f116-0e0d15b111f1"
      },
      "execution_count": 161,
      "outputs": [
        {
          "output_type": "execute_result",
          "data": {
            "text/plain": [
              "95"
            ]
          },
          "metadata": {},
          "execution_count": 161
        }
      ]
    },
    {
      "cell_type": "code",
      "source": [
        "oedilf_avg_wup_dist = []\n",
        "\n",
        "for oedilf_poem_index in oedilf_poem_indices:\n",
        "    oedilf_poem = '\\n'.join(oedilf_poems[oedilf_poem_index]['lines'])\n",
        "\n",
        "    nouns = get_nouns_in_poem(oedilf_poem)\n",
        "    nouns = [x[1] for x in nouns]\n",
        "\n",
        "    oedilf_avg_wup_dist.append(get_avg_pairwise_noun_distance(nouns, similarity_metric='wup'))\n",
        "\n",
        "oedilf_wup_distances = [dist for dist in oedilf_avg_wup_dist if dist is not None]\n",
        "len(oedilf_wup_distances)"
      ],
      "metadata": {
        "colab": {
          "base_uri": "https://localhost:8080/"
        },
        "id": "VFs97s8x9bSD",
        "outputId": "c24ed9d0-b9a9-4c97-bbc9-ff9542ae0fe0"
      },
      "execution_count": 162,
      "outputs": [
        {
          "output_type": "execute_result",
          "data": {
            "text/plain": [
              "100"
            ]
          },
          "metadata": {},
          "execution_count": 162
        }
      ]
    },
    {
      "cell_type": "code",
      "source": [
        "plt.figure(figsize=(8,6))\n",
        "plt.hist(gpt2_wup_distances, bins=100, alpha=0.5, label=\"AI Poet\")\n",
        "plt.hist(oedilf_wup_distances, bins=100, alpha=0.5, label=\"OEDILF\")\n",
        "plt.xlabel(\"Average Pairwise Noun Similarity\", size=14)\n",
        "plt.ylabel(\"Count\", size=14)\n",
        "plt.title(\"Average Pairwise WordNet WUP Similarities\")\n",
        "plt.legend(loc='upper right')\n",
        "plt.show()"
      ],
      "metadata": {
        "colab": {
          "base_uri": "https://localhost:8080/",
          "height": 408
        },
        "id": "FhXzjE019djo",
        "outputId": "a59b017a-a97d-4ae2-85de-d8aaae97d1d3"
      },
      "execution_count": 163,
      "outputs": [
        {
          "output_type": "display_data",
          "data": {
            "text/plain": [
              "<Figure size 576x432 with 1 Axes>"
            ],
            "image/png": "[encoded data removed]"
          },
          "metadata": {
            "needs_background": "light"
          }
        }
      ]
    },
    {
      "cell_type": "code",
      "source": [
        "scipy.stats.ttest_ind(oedilf_wup_distances, gpt2_wup_distances, axis=0, equal_var=False)"
      ],
      "metadata": {
        "colab": {
          "base_uri": "https://localhost:8080/"
        },
        "id": "OBRgXROI9ey0",
        "outputId": "4fb1a3fc-730a-4ef2-f49d-5a233a3e3300"
      },
      "execution_count": 165,
      "outputs": [
        {
          "output_type": "execute_result",
          "data": {
            "text/plain": [
              "Ttest_indResult(statistic=-0.9054805722651659, pvalue=0.366440565403483)"
            ]
          },
          "metadata": {},
          "execution_count": 165
        }
      ]
    }
  ]
}