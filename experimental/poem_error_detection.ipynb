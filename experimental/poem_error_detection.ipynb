{
  "nbformat": 4,
  "nbformat_minor": 0,
  "metadata": {
    "colab": {
      "name": "poem_error_detection.ipynb",
      "provenance": [],
      "collapsed_sections": []
    },
    "kernelspec": {
      "name": "python3",
      "display_name": "Python 3"
    },
    "language_info": {
      "name": "python"
    }
  },
  "cells": [
    {
      "cell_type": "markdown",
      "source": [
        "# Experimental feature: Detecting grammar errors in poems and assigning a penalty score\n",
        "Philipp, March 28th 2022\n",
        "\n",
        "There is a tool called LanguageServer, which is a grammar checker implemented in Java. It's used for example in the OpenOffice suite. language_tool_python (https://github.com/jxmorris12/language_tool_python) is a wrapper around that tool. It can be installed and imported, and starts a local LanguageTool server instance when instantiated.\n",
        "\n",
        "I implemented a couple of functions that check lines of a poem for errors. Some matches represent trivial errors, e.g. lower case line beginning or lower case i (should this maybe be an actual error?), so I added some functionality to filter those matches out.\n",
        "\n",
        "I also propose to have some kind of error-to-penalty mapping where different grammar errors get assigned different weights so that we can have poems that are \"more wrong\" than others, but maybe just filtering out erroneous poems will be enough. \n",
        "\n",
        "See below for examples."
      ],
      "metadata": {
        "id": "9LGh1UNQhDs4"
      }
    },
    {
      "cell_type": "code",
      "execution_count": 51,
      "metadata": {
        "colab": {
          "base_uri": "https://localhost:8080/"
        },
        "id": "RVeFi42DS8Dz",
        "outputId": "8f3ec42f-e3ea-45ea-9e89-300283dba8f6"
      },
      "outputs": [
        {
          "output_type": "stream",
          "name": "stdout",
          "text": [
            "Requirement already satisfied: language_tool_python in /usr/local/lib/python3.7/dist-packages (2.7.0)\n",
            "Requirement already satisfied: tqdm in /usr/local/lib/python3.7/dist-packages (from language_tool_python) (4.63.0)\n",
            "Requirement already satisfied: requests in /usr/local/lib/python3.7/dist-packages (from language_tool_python) (2.23.0)\n",
            "Requirement already satisfied: idna<3,>=2.5 in /usr/local/lib/python3.7/dist-packages (from requests->language_tool_python) (2.10)\n",
            "Requirement already satisfied: chardet<4,>=3.0.2 in /usr/local/lib/python3.7/dist-packages (from requests->language_tool_python) (3.0.4)\n",
            "Requirement already satisfied: urllib3!=1.25.0,!=1.25.1,<1.26,>=1.21.1 in /usr/local/lib/python3.7/dist-packages (from requests->language_tool_python) (1.24.3)\n",
            "Requirement already satisfied: certifi>=2017.4.17 in /usr/local/lib/python3.7/dist-packages (from requests->language_tool_python) (2021.10.8)\n"
          ]
        }
      ],
      "source": [
        "pip install --upgrade language_tool_python"
      ]
    },
    {
      "cell_type": "code",
      "source": [
        "import language_tool_python\n",
        "from collections import defaultdict\n",
        "tool = language_tool_python.LanguageTool('en-US')"
      ],
      "metadata": {
        "id": "f1mNUoWhTBAg"
      },
      "execution_count": 52,
      "outputs": []
    },
    {
      "cell_type": "code",
      "source": [
        "poems_raw = \"\"\"\n",
        "I'd rather watch the clouds in the sky\n",
        "though don't climb to a field, and i'll try\n",
        "make the sky always clear\n",
        "because nobody's here\n",
        "you'll say i'll not fly off the eye\n",
        "\n",
        "I'd rather watch the clouds in the sky\n",
        "but ignore it, take care if you'd die\n",
        "if you fly on a fly\n",
        "you'd be seen in the sky\n",
        "or a comerfly, put your way high\n",
        "\n",
        "I'd rather watch the clouds in the sky\n",
        "and clouds, if i'd take on a try\n",
        "of the cloud, and, say\n",
        "that the clouds had held sway..\n",
        "being such an observant was i\n",
        "\n",
        "I'd rather watch the clouds in the sky\n",
        "that were conically shaped like a pie\n",
        "and they'd fall in the night\n",
        "simply fall, not just right\n",
        "and to fall, they could fall way up high\n",
        "\n",
        "I'd rather watch the clouds in the sky\n",
        "for his eyes with a scientist's eye\n",
        "to observe and observe\n",
        "to observe, observe, observe\n",
        "are a change from my mind, smile and sigh\n",
        "\n",
        "I'd rather watch the clouds in the sky\n",
        "ae and stars that are bigger than i\n",
        "far from sea to up high\n",
        "from a view in the sky\n",
        "help me up. so thanks to heaven, i'm high\n",
        "\n",
        "I'd rather watch the clouds in the sky\n",
        "i look over; my love, so i cry\n",
        "if i give you my love\n",
        "and you come up above\n",
        "if i sit there? bye, dear, goodbye\n",
        "\n",
        "I'd rather watch the clouds in the sky\n",
        "like the clouds, though they fly way up high\n",
        "cloudy arcs in the sky\n",
        "all that arc as they fly\n",
        "or the shadow that flies like the sky\n",
        "\n",
        "I'd rather watch the clouds in the sky\n",
        "at convenience store, purchase and buy\n",
        "hop to shop for a day\n",
        "do some think they're away\n",
        "at the convenience store, purchase and buy\n",
        "\n",
        "I'd rather watch the clouds in the sky\n",
        "i tried hard just to climb up, and then try\n",
        "to come up and to fly\n",
        "i'm to get to the sky\n",
        "it would sure come away with my sigh\n",
        "\"\"\""
      ],
      "metadata": {
        "id": "s-WCuO6zT2BA"
      },
      "execution_count": 53,
      "outputs": []
    },
    {
      "cell_type": "code",
      "source": [
        "def raw_output_to_poems(raw_output: str):\n",
        "    \"\"\"Parse a raw text representation of multiple poems into a list of poems\n",
        "\n",
        "    :param raw_output: poem as a string (like txt files we sentto Rita)\n",
        "    :return: list of poems, where each poem is a list of lines\n",
        "    \"\"\"\n",
        "    poems = raw_output.split('\\n\\n')\n",
        "    poems = [poem.strip() for poem in poems]\n",
        "    poems = [poem.split('\\n') for poem in poems]\n",
        "    return poems\n",
        "\n",
        "\n",
        "def filter_bad_rules(matches, bad_rules):\n",
        "    \"\"\"Filter out bad (e.g. common, non-problematic) LanguageTool error matches\n",
        "\n",
        "    :param matches: list of LanguageTool error matches for a given line\n",
        "    :param bad_rules: list of ruleId's to ignore\n",
        "    :return: list of matches with bad matches filtered out\n",
        "    \"\"\"\n",
        "    return [match for match in matches if match.ruleId not in bad_rules]\n",
        "\n",
        "\n",
        "def count_errors_in_poems(poems: list, bad_rules=None):\n",
        "    \"\"\"Count grammar errors of different types in a list of poems\n",
        "\n",
        "    :param poems: list of poems, where each poem is a list of lines\n",
        "    :param bad_rules: list of ruleId's of grammar rules to be ignored\n",
        "    :return: dictionary with ruleId as key and count as value\n",
        "    \"\"\"\n",
        "    error_counter = defaultdict(int)\n",
        "    for poem in poems:\n",
        "        for line in poem:\n",
        "            matches = tool.check(line)\n",
        "            if bad_rules:\n",
        "                matches = filter_bad_rules(matches, bad_rules)\n",
        "            for match in matches:\n",
        "                error_counter[match.ruleId] += 1\n",
        "    return dict(error_counter)\n",
        "\n",
        "\n",
        "def print_erroneous_poems(poems: list, bad_rules=None):\n",
        "    \"\"\"Print erroneous poems together with their errors\n",
        "\n",
        "    :param poems: list of poems, where each poem is a list of lines\n",
        "    :param bad_rules: list of ruleId's of grammar rules to be ignored\n",
        "    \"\"\"\n",
        "    for poem in poems:\n",
        "        total_matches = []\n",
        "        for line in poem:\n",
        "            total_matches += tool.check(line)\n",
        "        if bad_rules:\n",
        "            total_matches = filter_bad_rules(total_matches, bad_rules)\n",
        "        if len(total_matches) > 0:\n",
        "            print()\n",
        "            print('\\n'.join(poem))\n",
        "            print(total_matches)\n",
        "            print()\n",
        "\n",
        "def get_poem_error_penalty(poem: list, rule_penatlies: dict, bad_rules=None):\n",
        "    \"\"\"Calculate grammar error penalty for a given poem\n",
        "\n",
        "    :param poem: poem as a list of lines\n",
        "    :param rule_penatlies: dictionary where key is ruleId and value is an\n",
        "                           integer representing the penalty for violating that\n",
        "                           rule\n",
        "    :return: tuple of penalty (int), list of default penalty ruleIds encountered\n",
        "    \"\"\"\n",
        "    errors = count_errors_in_poems([poem], bad_rules=bad_rules)\n",
        "    penalty = 0\n",
        "    default_rules = []\n",
        "    for ruleId, error_count in errors.items():\n",
        "        if ruleId in rule_penalties:\n",
        "            penalty += error_count * rule_penalties[ruleId]\n",
        "        else:\n",
        "            penalty += error_count * rule_penalties['default']\n",
        "            default_rules.append(ruleId)\n",
        "    return penalty, default_rules"
      ],
      "metadata": {
        "id": "FnJQ5GeRWyAm"
      },
      "execution_count": 54,
      "outputs": []
    },
    {
      "cell_type": "code",
      "source": [
        "# Count different error types in poems\n",
        "poems = raw_output_to_poems(poems_raw)\n",
        "print(f\"Found {len(poems)} poems\")\n",
        "print(\"Non-filtered error counts:\", count_errors_in_poems(poems))\n",
        "\n",
        "\n",
        "# Filter out non-problematic errors by definion \"bad rules\"\n",
        "bad_rules = [\n",
        "    'UPPERCASE_SENTENCE_START',\n",
        "    'I_LOWERCASE',\n",
        "]\n",
        "\n",
        "print(\"Filtered error counts:\",\n",
        "      count_errors_in_poems(poems, bad_rules=bad_rules))\n",
        "\n",
        "\n",
        "# Print out the poems that have actual (i.e. problematic) errors in them\n",
        "print_erroneous_poems(poems, bad_rules)\n",
        "\n",
        "\n",
        "# Calculate a penalty score for each poem given some error-to-penalty mapping\n",
        "rule_penalties = {\n",
        "    'default': 10,\n",
        "    'UPPERCASE_SENTENCE_START': 1,\n",
        "    'I_LOWERCASE': 1,\n",
        "    'MORFOLOGIK_RULE_EN_US': 5,\n",
        "    'DOUBLE_PUNCTUATION': 7\n",
        "}\n",
        "for i, poem in enumerate(poems):\n",
        "    penalty, default_rules = get_poem_error_penalty(poem, rule_penalties,\n",
        "                                                    bad_rules=bad_rules)\n",
        "    print(f\"Poem {i+1} error penalty: {penalty}\")\n",
        "    if len(default_rules) > 0:\n",
        "        print(f\"Found rules without specific penalty assigned: {default_rules}\")"
      ],
      "metadata": {
        "colab": {
          "base_uri": "https://localhost:8080/"
        },
        "id": "8cMJ40KJZrdv",
        "outputId": "852b76c0-46c5-4b31-96ee-cdbb2f5c2029"
      },
      "execution_count": 55,
      "outputs": [
        {
          "output_type": "stream",
          "name": "stdout",
          "text": [
            "Found 10 poems\n",
            "Non-filtered error counts: {'UPPERCASE_SENTENCE_START': 39, 'I_LOWERCASE': 11, 'MORFOLOGIK_RULE_EN_US': 1, 'DOUBLE_PUNCTUATION': 1}\n",
            "Filtered error counts: {'MORFOLOGIK_RULE_EN_US': 1, 'DOUBLE_PUNCTUATION': 1}\n",
            "\n",
            "I'd rather watch the clouds in the sky\n",
            "but ignore it, take care if you'd die\n",
            "if you fly on a fly\n",
            "you'd be seen in the sky\n",
            "or a comerfly, put your way high\n",
            "[Match({'ruleId': 'MORFOLOGIK_RULE_EN_US', 'message': 'Possible spelling mistake found.', 'replacements': ['comer fly'], 'offsetInContext': 5, 'context': 'or a comerfly, put your way high', 'offset': 5, 'errorLength': 8, 'category': 'TYPOS', 'ruleIssueType': 'misspelling', 'sentence': 'or a comerfly, put your way high'})]\n",
            "\n",
            "\n",
            "I'd rather watch the clouds in the sky\n",
            "and clouds, if i'd take on a try\n",
            "of the cloud, and, say\n",
            "that the clouds had held sway..\n",
            "being such an observant was i\n",
            "[Match({'ruleId': 'DOUBLE_PUNCTUATION', 'message': 'Two consecutive dots', 'replacements': ['.', '…'], 'offsetInContext': 29, 'context': 'that the clouds had held sway..', 'offset': 29, 'errorLength': 2, 'category': 'PUNCTUATION', 'ruleIssueType': 'typographical', 'sentence': 'that the clouds had held sway..'})]\n",
            "\n",
            "Poem 1 error penalty: 0\n",
            "Poem 2 error penalty: 5\n",
            "Poem 3 error penalty: 7\n",
            "Poem 4 error penalty: 0\n",
            "Poem 5 error penalty: 0\n",
            "Poem 6 error penalty: 0\n",
            "Poem 7 error penalty: 0\n",
            "Poem 8 error penalty: 0\n",
            "Poem 9 error penalty: 0\n",
            "Poem 10 error penalty: 0\n"
          ]
        }
      ]
    },
    {
      "cell_type": "code",
      "source": [
        "tool.close()"
      ],
      "metadata": {
        "id": "Ch8Vo3E6VOG5"
      },
      "execution_count": 56,
      "outputs": []
    }
  ]
}