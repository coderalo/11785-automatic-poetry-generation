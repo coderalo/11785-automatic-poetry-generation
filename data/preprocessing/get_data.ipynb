{
 "cells": [
  {
   "cell_type": "markdown",
   "source": [
    "# Loading and parsing the OEDILF dataset from [PoetRNN](https://github.com/sballas8/PoetRNN)\n",
    "\n",
    "Just a quick notebook for downloading the dataset, exploring it, and parsing it into JSON\n",
    "Note that PoetRNN only contains 90,000 limericks, whereas the website already has 113,885 approved ones by now, so we might have to scrape the rest ourselves if we need them!"
   ],
   "metadata": {
    "collapsed": false,
    "pycharm": {
     "name": "#%% md\n"
    }
   }
  },
  {
   "cell_type": "markdown",
   "source": [
    "### Downloading the data"
   ],
   "metadata": {
    "collapsed": false,
    "pycharm": {
     "name": "#%% md\n"
    }
   }
  },
  {
   "cell_type": "code",
   "execution_count": 44,
   "outputs": [
    {
     "name": "stdout",
     "output_type": "stream",
     "text": [
      "--2022-03-18 12:03:22--  https://github.com/sballas8/PoetRNN/raw/master/data/limericks.csv\r\n",
      "Resolving github.com (github.com)... 140.82.112.4\r\n",
      "Connecting to github.com (github.com)|140.82.112.4|:443... connected.\r\n",
      "HTTP request sent, awaiting response... 302 Found\r\n",
      "Location: https://raw.githubusercontent.com/sballas8/PoetRNN/master/data/limericks.csv [following]\r\n",
      "--2022-03-18 12:03:22--  https://raw.githubusercontent.com/sballas8/PoetRNN/master/data/limericks.csv\r\n",
      "Resolving raw.githubusercontent.com (raw.githubusercontent.com)... 185.199.111.133, 185.199.108.133, 185.199.110.133, ...\r\n",
      "Connecting to raw.githubusercontent.com (raw.githubusercontent.com)|185.199.111.133|:443... connected.\r\n",
      "HTTP request sent, awaiting response... 200 OK\r\n",
      "Length: 15723453 (15M) [text/plain]\r\n",
      "Saving to: ‘limericks.csv’\r\n",
      "\r\n",
      "limericks.csv       100%[===================>]  14.99M  15.5MB/s    in 1.0s    \r\n",
      "\r\n",
      "2022-03-18 12:03:23 (15.5 MB/s) - ‘limericks.csv’ saved [15723453/15723453]\r\n",
      "\r\n",
      "get_data.ipynb limericks.csv\r\n"
     ]
    }
   ],
   "source": [
    "url = 'https://github.com/sballas8/PoetRNN/raw/master/data/limericks.csv'\n",
    "!wget $url\n",
    "!ls"
   ],
   "metadata": {
    "collapsed": false,
    "pycharm": {
     "name": "#%%\n"
    }
   }
  },
  {
   "cell_type": "markdown",
   "source": [
    "### Parsing into JSON"
   ],
   "metadata": {
    "collapsed": false,
    "pycharm": {
     "name": "#%% md\n"
    }
   }
  },
  {
   "cell_type": "markdown",
   "source": [
    "OEDILF dataset is just 15MB, so can just load into memory all at once for now to parse into json"
   ],
   "metadata": {
    "collapsed": false,
    "pycharm": {
     "name": "#%% md\n"
    }
   }
  },
  {
   "cell_type": "code",
   "execution_count": 45,
   "outputs": [],
   "source": [
    "import json"
   ],
   "metadata": {
    "collapsed": false,
    "pycharm": {
     "name": "#%%\n"
    }
   }
  },
  {
   "cell_type": "code",
   "execution_count": 46,
   "outputs": [
    {
     "data": {
      "text/plain": "[\"cap'n jack was washed over the side.\\nhis crew searched but found not hair nor hide.\\nno longer the helm,\\nbut the deep benthic realm,\\nis where jack will forever reside.\",\n \"ablactation, to wean off the breast,\\nshould wait 'til age 2; this is best.\\nthough some men never quit\\n(bet you thought i'd rhyme tit)\\nbecause they're mammarially obsessed.\",\n \"as a soup, bisque is best when served hot.\\nmade with lobster, it hits the right spot.\\ni think it tastes dreamy;\\nit's so rich and creamy.\\nit's the soup you'd be served on a yacht.\"]"
     },
     "execution_count": 46,
     "metadata": {},
     "output_type": "execute_result"
    }
   ],
   "source": [
    "with open('limericks.csv', 'r') as limericks_file:\n",
    "    content = limericks_file.read()\n",
    "limericks = content.split(\"\\\"\")\n",
    "stripped = [limerick.strip('\\n') for limerick in limericks]\n",
    "filtered = [limerick for limerick in stripped if len(limerick) > 0]\n",
    "filtered[:3]"
   ],
   "metadata": {
    "collapsed": false,
    "pycharm": {
     "name": "#%%\n"
    }
   }
  },
  {
   "cell_type": "code",
   "execution_count": 47,
   "outputs": [],
   "source": [
    "def parse_limerick(limerick):\n",
    "    \"\"\"Parse a full limerick into a dictionary containing a list of lines\n",
    "\n",
    "    :param limerick: full limerick as a single string\n",
    "    :return: dictionary, where the 'lines' field has a list of 5 limerick lines\n",
    "    \"\"\"\n",
    "    lines = limerick.split('\\n')\n",
    "    if len(lines) != 5:\n",
    "        return None\n",
    "    else:\n",
    "        return {'lines': lines}\n",
    "\n",
    "def limericks_to_json(limericks, json_path):\n",
    "    \"\"\"Parse a list of limerick strings and dump it as JSON\n",
    "\n",
    "    :param limericks: list of limerick strings\n",
    "    :param json_path: output path where JSON will be dumped\n",
    "    :return: None\n",
    "    \"\"\"\n",
    "    output = {'count': 0, 'limericks': {}}\n",
    "    for index, limerick in enumerate(limericks):\n",
    "        limerick_dict = parse_limerick(limerick)\n",
    "        if limerick_dict:\n",
    "            output['limericks'][index] = limerick_dict\n",
    "\n",
    "    output['count'] = len(output['limericks'])\n",
    "\n",
    "    with open(json_path, 'w') as outfile:\n",
    "        json.dump(output, outfile)"
   ],
   "metadata": {
    "collapsed": false,
    "pycharm": {
     "name": "#%%\n"
    }
   }
  },
  {
   "cell_type": "code",
   "execution_count": 48,
   "outputs": [],
   "source": [
    "limericks_to_json(filtered, 'limericks.json')"
   ],
   "metadata": {
    "collapsed": false,
    "pycharm": {
     "name": "#%%\n"
    }
   }
  },
  {
   "cell_type": "code",
   "execution_count": null,
   "outputs": [],
   "source": [],
   "metadata": {
    "collapsed": false,
    "pycharm": {
     "name": "#%%\n"
    }
   }
  }
 ],
 "metadata": {
  "kernelspec": {
   "display_name": "Python 3",
   "language": "python",
   "name": "python3"
  },
  "language_info": {
   "codemirror_mode": {
    "name": "ipython",
    "version": 2
   },
   "file_extension": ".py",
   "mimetype": "text/x-python",
   "name": "python",
   "nbconvert_exporter": "python",
   "pygments_lexer": "ipython2",
   "version": "2.7.6"
  }
 },
 "nbformat": 4,
 "nbformat_minor": 0
}