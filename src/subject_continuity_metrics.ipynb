{
  "nbformat": 4,
  "nbformat_minor": 0,
  "metadata": {
    "colab": {
      "name": "subject_continuity_metrics.ipynb",
      "provenance": [],
      "collapsed_sections": []
    },
    "kernelspec": {
      "name": "python3",
      "display_name": "Python 3"
    },
    "language_info": {
      "name": "python"
    }
  },
  "cells": [
    {
      "cell_type": "markdown",
      "source": [
        "# Subject Continuity\n",
        "\n",
        "In this notebook, we calculate the BERT embedding distance and WordNet path distance on a final selection of 5504 poems from GPoeT-2 as well as the same amount of randomly sampled OEDILF poems for comparison.\n",
        "\n",
        "After the metrics on the poems are computed, they are stored for future use. In addition, we subsample 500 poems from each of the two sets and plot the results."
      ],
      "metadata": {
        "id": "9e9qTAf2-ELF"
      }
    },
    {
      "cell_type": "markdown",
      "source": [
        "## BERT"
      ],
      "metadata": {
        "id": "HTbJOcCnZMGe"
      }
    },
    {
      "cell_type": "code",
      "execution_count": null,
      "metadata": {
        "id": "T0jrzLO7qUd6"
      },
      "outputs": [],
      "source": [
        "!pip install transformers\n",
        "import torch\n",
        "import numpy as np\n",
        "import random\n",
        "from transformers import BertTokenizerFast, BertModel\n",
        "import nltk\n",
        "nltk.download('stopwords')\n",
        "nltk.download('wordnet')\n",
        "nltk.download('punkt')\n",
        "nltk.download('averaged_perceptron_tagger')\n",
        "nltk.download('treebank')\n",
        "from tqdm.notebook import tqdm\n",
        "import json\n",
        "import matplotlib.pyplot as plt\n",
        "import random\n",
        "import scipy\n",
        "from nltk.corpus import wordnet as wn"
      ]
    },
    {
      "cell_type": "code",
      "source": [
        "tokenizer = BertTokenizerFast.from_pretrained('bert-base-uncased')\n",
        "model = BertModel.from_pretrained('bert-base-uncased', output_hidden_states = True)"
      ],
      "metadata": {
        "id": "Dom7-2XKqZ9D"
      },
      "execution_count": null,
      "outputs": []
    },
    {
      "cell_type": "code",
      "source": [
        "def get_token_embeddings(tokenizer, model, poem):\n",
        "    \"\"\"Retrieve the BERT embedding of each token in a poem\n",
        "\n",
        "    :param tokenizer: BERT Fast tokenizer\n",
        "    :param model: BERT pre-trained model\n",
        "    :param poem: poem as a single string\n",
        "    :return: (mapping of word index to token, embeddings for each token)\n",
        "    \"\"\"\n",
        "    # Tokenize the poem\n",
        "    marked_poem = \"[CLS] \" + poem + \" [SEP]\"\n",
        "    bert_tokenized_poem = tokenizer.tokenize(marked_poem)\n",
        "\n",
        "    # Get the word to token ID mapping\n",
        "    encoded_poem = tokenizer(poem)\n",
        "    word_ids = encoded_poem.word_ids()\n",
        "    word_to_token = list(zip(word_ids, bert_tokenized_poem))[1:-1]\n",
        "\n",
        "    num_words = word_to_token[-1][0] + 1\n",
        "    word_token_mapping = [[] for _ in range(num_words)]\n",
        "\n",
        "    for token_index, (word_id, token) in enumerate(word_to_token):\n",
        "        word_token_mapping[word_id].append(token_index)\n",
        "\n",
        "    # Get all hidden states\n",
        "    indexed_tokens = tokenizer.convert_tokens_to_ids(bert_tokenized_poem)\n",
        "    segment_ids = [1] * len(bert_tokenized_poem)\n",
        "\n",
        "    tokens_tensor = torch.tensor([indexed_tokens])\n",
        "    segments_tensors = torch.tensor([segment_ids])\n",
        "\n",
        "    model.eval()\n",
        "    with torch.no_grad():\n",
        "        outputs = model(tokens_tensor, segments_tensors)\n",
        "    hidden_states = torch.stack(outputs[2], dim=0).squeeze(dim=1).permute(1,0,2)\n",
        "\n",
        "    # Concat last four layers as final embedding\n",
        "    embeddings = []\n",
        "    for token in hidden_states[1:-1]:\n",
        "        last_four_layers = torch.cat([token[-i] for i in range(1, 5)], dim=0)\n",
        "        embeddings.append(last_four_layers)\n",
        "    \n",
        "    return word_token_mapping, embeddings\n",
        "\n",
        "\n",
        "def get_nouns_in_poem(poem):\n",
        "    \"\"\"Extract all nouns and their word index from a poem\n",
        "\n",
        "    :param poem: One poem as a single string\n",
        "    :return: list of tuples: (word index, noun as string)\n",
        "    \"\"\"\n",
        "    is_noun = lambda pos: pos[:2] == 'NN'\n",
        "    nltk_tokenized_poem = nltk.word_tokenize(poem)\n",
        "    nouns = [(i, word) for i, (word, pos) in enumerate(nltk.pos_tag(nltk_tokenized_poem)) if is_noun(pos)]\n",
        "    return nouns\n",
        "\n",
        "\n",
        "def filter_and_combine_embeddings(filter_word_ids, word_token_mapping, embeddings, verbose=False):\n",
        "    \"\"\"Filter for only the noun embeddings and combine multiple tokens that correspond to the same word\n",
        "\n",
        "    :param filter_word_ids: word IDs from the poem that should be kept\n",
        "    :param word_token_mapping: mapping from word IDs to token IDs\n",
        "    :param embeddings: actual BERT embeddings to use\n",
        "    :param verbose: verbose mode with additional debug output\n",
        "    :return: list of filtered embeddings (one per noun)\n",
        "    \"\"\"\n",
        "    filtered_embeddings = []\n",
        "    for word_id in filter_word_ids:\n",
        "        if word_id >= len(word_token_mapping):\n",
        "            return None\n",
        "        tokens = word_token_mapping[word_id]\n",
        "        num_tokens = len(tokens)\n",
        "        if verbose:\n",
        "            print(f\"Found {num_tokens} for word {word_id}\")\n",
        "        avg_embedding = embeddings[tokens[0]]\n",
        "        for token_id in tokens[1:]:\n",
        "            avg_embedding += embeddings[token_id]\n",
        "        avg_embedding /= num_tokens\n",
        "        filtered_embeddings.append(avg_embedding.cpu().detach().numpy())\n",
        "    return filtered_embeddings\n",
        "\n",
        "\n",
        "def calculate_centroid(embeddings):\n",
        "    \"\"\"Calculate the centroid of a given number of points in the embedding space\n",
        "\n",
        "    :param embeddings: list of points in the embedding space\n",
        "    :return: list of filtered embeddings (one per noun)\n",
        "    \"\"\"\n",
        "    num_points = len(embeddings)\n",
        "    if num_points == 0:\n",
        "        return None\n",
        "    sum = np.zeros(len(embeddings[0]))\n",
        "    for i in range(num_points):\n",
        "        sum += embeddings[i]\n",
        "    centroid = sum / num_points\n",
        "    return centroid\n",
        "\n",
        "\n",
        "def get_distances_from_centroid(centroid, embeddings):\n",
        "    \"\"\"Calculate the distance from the centroid for a given number of points\n",
        "\n",
        "    :param embeddings: centroid of the points provided\n",
        "    :param embeddings: list of points in the embedding space\n",
        "    :return: list of filtered embeddings (one per noun)\n",
        "    \"\"\"\n",
        "    num_points = len(embeddings)\n",
        "    distances = []\n",
        "    for embedding in embeddings:\n",
        "        diff = centroid - embedding\n",
        "        distance = np.linalg.norm(diff)\n",
        "        distances.append(distance)\n",
        "    return np.array(distances)"
      ],
      "metadata": {
        "id": "7rRuHWEV5rP3"
      },
      "execution_count": 3,
      "outputs": []
    },
    {
      "cell_type": "markdown",
      "source": [
        "### GPoeT-2"
      ],
      "metadata": {
        "id": "4GLUtLwTcgu7"
      }
    },
    {
      "cell_type": "code",
      "source": [
        "\"\"\" Load the GPoeT-2 poems \"\"\"\n",
        "filtered_gpoet2_poems_file = open('04_21_free_form_spell_checked_12832_ld_10702_class_5504.json')\n",
        "filtered_gpoet2_poems = json.load(filtered_gpoet2_poems_file)\n",
        "print(\"number of poems: \", len(filtered_gpoet2_poems), '\\n')\n",
        "print(filtered_gpoet2_poems[list(filtered_gpoet2_poems.keys())[0]])"
      ],
      "metadata": {
        "id": "GqwyQ6MEaae5",
        "colab": {
          "base_uri": "https://localhost:8080/"
        },
        "outputId": "a932ac5f-1374-4bd1-b54f-1318ff0725f3"
      },
      "execution_count": 4,
      "outputs": [
        {
          "output_type": "stream",
          "name": "stdout",
          "text": [
            "number of poems:  5504 \n",
            "\n",
            "of course I must get my hair swept clean;\n",
            "all my bangs are still clean. I'm a teen.\n",
            "so lift me right back\n",
            "when the world takes the quack:\n",
            "the exit is the exit I'll preen.\n"
          ]
        }
      ]
    },
    {
      "cell_type": "code",
      "source": [
        "\"\"\" Calculate the BERT embedding noun to centroid distances \"\"\"\n",
        "gpoet2_metrics = {}\n",
        "\n",
        "for id, gpt2_poem in tqdm(filtered_gpoet2_poems.items()):\n",
        "    word_token_mapping, embeddings = get_token_embeddings(tokenizer, model, gpt2_poem)\n",
        "    noun_word_ids = [x[0] for x in get_nouns_in_poem(gpt2_poem)]\n",
        "    filtered_embeddings = filter_and_combine_embeddings(noun_word_ids, word_token_mapping, embeddings)\n",
        "    \n",
        "    if filtered_embeddings is None:\n",
        "        gpoet2_metrics[id] = None\n",
        "        continue\n",
        "\n",
        "    centroid = calculate_centroid(filtered_embeddings)\n",
        "\n",
        "    if centroid is None:\n",
        "        gpoet2_metrics[id] = None\n",
        "        continue\n",
        "\n",
        "    distances = get_distances_from_centroid(centroid, filtered_embeddings)\n",
        "\n",
        "    gpoet2_metrics[id] = {\"mean\": distances.mean(), \"std\": distances.std()}"
      ],
      "metadata": {
        "id": "rIPg6hjqazOj"
      },
      "execution_count": null,
      "outputs": []
    },
    {
      "cell_type": "code",
      "source": [
        "\"\"\" Store metrics as a JSON file for later use (avoid recomputation every time) \"\"\"\n",
        "with open('centroid_metrics_04_21_free_form_spell_checked_12832_ld_10702_class_5504.json', 'w') as f:\n",
        "    json.dump(gpoet2_metrics, f)"
      ],
      "metadata": {
        "id": "22v1FPEra_qE"
      },
      "execution_count": null,
      "outputs": []
    },
    {
      "cell_type": "markdown",
      "source": [
        "### OEDILF"
      ],
      "metadata": {
        "id": "gJXSWIjjeGDs"
      }
    },
    {
      "cell_type": "code",
      "source": [
        "\"\"\" Load the OEDILF poems \"\"\"\n",
        "with open('limericks.json', 'r') as f:\n",
        "    json_data = json.load(f)\n",
        "oedilf_poems = json_data['limericks']\n",
        "print(\"number of OEDILF poems: \", len(oedilf_poems), '\\n')"
      ],
      "metadata": {
        "id": "w7RtgrDocec_",
        "colab": {
          "base_uri": "https://localhost:8080/"
        },
        "outputId": "e3faab30-70b3-493c-9174-b4f2c51848e8"
      },
      "execution_count": 5,
      "outputs": [
        {
          "output_type": "stream",
          "name": "stdout",
          "text": [
            "number of OEDILF poems:  72432 \n",
            "\n"
          ]
        }
      ]
    },
    {
      "cell_type": "code",
      "source": [
        "\"\"\" Sample an equal number of OEDILF poems and Calculate the BERT embedding noun to centroid distances \"\"\"\n",
        "\n",
        "oedilf_metrics = {}\n",
        "oedilf_poem_indices = random.sample(oedilf_poems.keys(), len(filtered_gpoet2_poems))\n",
        "\n",
        "for oedilf_poem_index in tqdm(oedilf_poem_indices):\n",
        "    oedilf_poem = '\\n'.join(oedilf_poems[oedilf_poem_index]['lines'])\n",
        "\n",
        "    word_token_mapping, embeddings = get_token_embeddings(tokenizer, model, oedilf_poem)\n",
        "    noun_word_ids = [x[0] for x in get_nouns_in_poem(oedilf_poem)]\n",
        "    filtered_embeddings = filter_and_combine_embeddings(noun_word_ids, word_token_mapping, embeddings)\n",
        "\n",
        "    if filtered_embeddings is None:\n",
        "        oedilf_metrics[oedilf_poem_index] = None\n",
        "        continue\n",
        "\n",
        "    centroid = calculate_centroid(filtered_embeddings)\n",
        "\n",
        "    if centroid is None:\n",
        "        oedilf_metrics[oedilf_poem_index] = None\n",
        "        continue\n",
        "\n",
        "    distances = get_distances_from_centroid(centroid, filtered_embeddings)\n",
        "\n",
        "    oedilf_metrics[oedilf_poem_index] = {\"mean\": distances.mean(), \"std\": distances.std()}"
      ],
      "metadata": {
        "id": "qvQbx06kcOcz"
      },
      "execution_count": null,
      "outputs": []
    },
    {
      "cell_type": "code",
      "source": [
        "\"\"\" Store metrics as a JSON file for later use (avoid recomputation every time) \"\"\"\n",
        "with open('centroid_metrics_oedilf_5504.json', 'w') as f:\n",
        "    json.dump(oedilf_metrics, f)"
      ],
      "metadata": {
        "id": "Yb2LKS6vcXOa"
      },
      "execution_count": null,
      "outputs": []
    },
    {
      "cell_type": "markdown",
      "source": [
        "### Run experiment"
      ],
      "metadata": {
        "id": "3gCDqPZyd2fm"
      }
    },
    {
      "cell_type": "code",
      "source": [
        "with open('/content/centroid_metrics_04_21_free_form_spell_checked_12832_ld_10702_class_5504.json', 'r') as f:\n",
        "    gpoet2_centroid_metrics = json.load(f)\n",
        "gpoet2_centroid_metrics_list = list(gpoet2_centroid_metrics.items())\n",
        "gpoet2_centroid_metrics_list = [(id, metrics) for (id, metrics) in gpoet2_centroid_metrics_list if metrics is not None]"
      ],
      "metadata": {
        "id": "iBiWOC4Gf2eR"
      },
      "execution_count": 6,
      "outputs": []
    },
    {
      "cell_type": "code",
      "source": [
        "with open('/content/centroid_metrics_oedilf_5504.json', 'r') as f:\n",
        "    oedilf_centroid_metrics = json.load(f)\n",
        "oedilf_centroid_metrics_list = list(oedilf_centroid_metrics.items())"
      ],
      "metadata": {
        "id": "cOr9TKwYf5hq"
      },
      "execution_count": 7,
      "outputs": []
    },
    {
      "cell_type": "code",
      "source": [
        "\"\"\" Sample 500 poems from both GPoeT-2 and OEDILF and retrieve corresponding statistics \"\"\"\n",
        "num_points = 500\n",
        "\n",
        "gpoet2_sample = random.sample(gpoet2_centroid_metrics_list, num_points)\n",
        "oedilf_sample = random.sample(oedilf_centroid_metrics_list, num_points)\n",
        "\n",
        "gpt2_means, gpt2_stds = [], []\n",
        "for (id, metrics) in gpoet2_sample:\n",
        "    gpt2_means.append(metrics['mean'])\n",
        "    gpt2_stds.append(metrics['std'])\n",
        "assert len(gpt2_means) == num_points\n",
        "assert len(gpt2_stds) == num_points\n",
        "\n",
        "oedilf_means, oedilf_stds = [], []\n",
        "for (id, metrics) in oedilf_sample:\n",
        "    oedilf_means.append(metrics['mean'])\n",
        "    oedilf_stds.append(metrics['std'])\n",
        "assert len(oedilf_means) == num_points\n",
        "assert len(oedilf_stds) == num_points"
      ],
      "metadata": {
        "id": "RGXNC2Tad1U7"
      },
      "execution_count": 8,
      "outputs": []
    },
    {
      "cell_type": "code",
      "source": [
        "\"\"\" Plot results and run T-test \"\"\"\n",
        "\n",
        "plt.figure(figsize=(8,6))\n",
        "plt.scatter(gpt2_means, gpt2_stds, label='GPoeT-2', s=5)\n",
        "plt.scatter(oedilf_means, oedilf_stds, label='OEDILF', s=5)\n",
        "plt.title('Mean and Std.dev. of poem-wise noun to centroid distances')\n",
        "plt.xlabel(\"Mean noun to centroid distance\", size=14)\n",
        "plt.ylabel(\"Std.dev. of noun to centroid distance\", size=14)\n",
        "plt.legend()\n",
        "plt.show()\n",
        "\n",
        "scipy.stats.ttest_ind(oedilf_means, gpt2_means, axis=0, equal_var=False)"
      ],
      "metadata": {
        "id": "6v4PZQ33f-7g",
        "colab": {
          "base_uri": "https://localhost:8080/",
          "height": 425
        },
        "outputId": "256b6ed7-8770-4720-808e-5d81695cf422"
      },
      "execution_count": 9,
      "outputs": [
        {
          "output_type": "display_data",
          "data": {
            "text/plain": [
              "<Figure size 576x432 with 1 Axes>"
            ],
            "image/png": "[encoded data removed]"
          },
          "metadata": {
            "needs_background": "light"
          }
        },
        {
          "output_type": "execute_result",
          "data": {
            "text/plain": [
              "Ttest_indResult(statistic=1.5545474786841444, pvalue=0.12039804920726825)"
            ]
          },
          "metadata": {},
          "execution_count": 9
        }
      ]
    },
    {
      "cell_type": "markdown",
      "source": [
        "# WordNet"
      ],
      "metadata": {
        "id": "avCYXBw_gh5N"
      }
    },
    {
      "cell_type": "code",
      "source": [
        "def get_two_noun_distance(n1, n2, verbose=False, similarity_metric='path'):\n",
        "    \"\"\"Get the WordNet distance of two given words with the specified similarity metric\n",
        "\n",
        "    :param n1: First noun to use\n",
        "    :param n2: Second noun to use\n",
        "    :param verbose: verbose mode with additional debug output\n",
        "    :param similarity_metric: WordNet similarity metric to use\n",
        "    :return: maximum similarity between any two meanings of the two provided nouns\n",
        "    \"\"\"\n",
        "    assert(similarity_metric in ['path', 'lch', 'wup']), f\"Invalid similarity metric {similarity_metric}\"\n",
        "\n",
        "    if similarity_metric == 'path':\n",
        "        metric = wn.path_similarity\n",
        "    elif similarity_metric == 'lch':\n",
        "        metric = wn.lch_similarity\n",
        "    elif similarity_metric == 'wup':\n",
        "        metric = wn.wup_similarity\n",
        "\n",
        "    syns1, syns2 = wn.synsets(n1, pos=wn.NOUN), wn.synsets(n2, pos=wn.NOUN)\n",
        "    max_similarity = -1\n",
        "    for syn1 in syns1:\n",
        "        for syn2 in syns2:\n",
        "            similarity = metric(syn1, syn2)\n",
        "            max_similarity = max(max_similarity, similarity)\n",
        "    max_similarity = round(max_similarity,4)\n",
        "    if verbose:\n",
        "        print(f\"Distance between {n1} and {n2} is {max_similarity}\")\n",
        "\n",
        "    if max_similarity == -1:\n",
        "        return None\n",
        "\n",
        "    return max_similarity\n",
        "\n",
        "\n",
        "def get_avg_pairwise_noun_distance(nouns, verbose=False, similarity_metric='path'):\n",
        "    \"\"\"Compute the average pairwise noun similarity of a sequence of nouns\n",
        "\n",
        "    :param nouns: List of nouns to use\n",
        "    :param verbose: verbose mode with additional debug output\n",
        "    :param similarity_metric: WordNet similarity metric to use\n",
        "    :return: average pairwise WordNet noun similarity\n",
        "    \"\"\"\n",
        "    total_dist = 0\n",
        "    pairs = 0\n",
        "\n",
        "    for i in range(len(nouns)):\n",
        "        for j in range(i+1, len(nouns)):\n",
        "            if nouns[i] == nouns[j]:\n",
        "                continue\n",
        "            dist = get_two_noun_distance(nouns[i], nouns[j], verbose=verbose, similarity_metric=similarity_metric)\n",
        "            if dist:\n",
        "                total_dist += dist\n",
        "                pairs += 1\n",
        "\n",
        "    if pairs == 0:\n",
        "        return None\n",
        "\n",
        "    return total_dist / pairs"
      ],
      "metadata": {
        "id": "GCcYx31HghfI"
      },
      "execution_count": 10,
      "outputs": []
    },
    {
      "cell_type": "markdown",
      "source": [
        "### GPoeT-2"
      ],
      "metadata": {
        "id": "qWAnvLLYh1gd"
      }
    },
    {
      "cell_type": "code",
      "source": [
        "gpoet2_avg_path_dist = {}\n",
        "\n",
        "for id, gpoet2_poem in tqdm(filtered_gpoet2_poems.items()):\n",
        "    nouns = get_nouns_in_poem(gpoet2_poem)\n",
        "    nouns = [x[1] for x in nouns]\n",
        "\n",
        "    gpoet2_avg_path_dist[id] = get_avg_pairwise_noun_distance(nouns, similarity_metric='path')"
      ],
      "metadata": {
        "id": "evKerh3Oke1P"
      },
      "execution_count": null,
      "outputs": []
    },
    {
      "cell_type": "code",
      "source": [
        "with open('wordnet_metrics_04_21_free_form_spell_checked_12832_ld_10702_class_5504.json', 'w') as f:\n",
        "    json.dump(gpoet2_avg_path_dist, f)"
      ],
      "metadata": {
        "id": "d--8kbfhhLs2"
      },
      "execution_count": null,
      "outputs": []
    },
    {
      "cell_type": "markdown",
      "source": [
        "### OEDILF"
      ],
      "metadata": {
        "id": "rNGg8464h9PI"
      }
    },
    {
      "cell_type": "code",
      "source": [
        "oedilf_avg_path_dist = {}\n",
        "\n",
        "for oedilf_poem_index in tqdm(oedilf_poem_indices):\n",
        "    oedilf_poem = '\\n'.join(oedilf_poems[oedilf_poem_index]['lines'])\n",
        "\n",
        "    nouns = get_nouns_in_poem(oedilf_poem)\n",
        "    nouns = [x[1] for x in nouns]\n",
        "\n",
        "    oedilf_avg_path_dist[oedilf_poem_index] = get_avg_pairwise_noun_distance(nouns, similarity_metric='path')"
      ],
      "metadata": {
        "id": "8Z7D-VWhhz4C"
      },
      "execution_count": null,
      "outputs": []
    },
    {
      "cell_type": "code",
      "source": [
        "with open('wordnet_metrics_oedilf_5504.json', 'w') as f:\n",
        "    json.dump(oedilf_avg_path_dist, f)"
      ],
      "metadata": {
        "id": "fQgXFs1xiFOb"
      },
      "execution_count": null,
      "outputs": []
    },
    {
      "cell_type": "markdown",
      "source": [
        "### Run experiment"
      ],
      "metadata": {
        "id": "bza5iTpYiId9"
      }
    },
    {
      "cell_type": "code",
      "source": [
        "with open('/content/wordnet_metrics_04_21_free_form_spell_checked_12832_ld_10702_class_5504.json', 'r') as f:\n",
        "    gpoet2_wordnet_metrics = json.load(f)\n",
        "gpoet2_wordnet_metrics_list = list(gpoet2_wordnet_metrics.items())\n",
        "gpoet2_wordnet_metrics_list = [(id, distance) for (id, distance) in gpoet2_wordnet_metrics_list if distance is not None]"
      ],
      "metadata": {
        "id": "tCzsrEgyiOPM"
      },
      "execution_count": 11,
      "outputs": []
    },
    {
      "cell_type": "code",
      "source": [
        "with open('/content/wordnet_metrics_oedilf_5504.json', 'r') as f:\n",
        "    oedilf_wordnet_metrics = json.load(f)\n",
        "oedilf_wordnet_metrics_list = list(oedilf_wordnet_metrics.items())\n",
        "oedilf_wordnet_metrics_list = [(id, distance) for (id, distance) in oedilf_wordnet_metrics_list if distance is not None]"
      ],
      "metadata": {
        "id": "FCUu16SJiPsV"
      },
      "execution_count": 12,
      "outputs": []
    },
    {
      "cell_type": "code",
      "source": [
        "gpoet2_sample = random.sample(gpoet2_wordnet_metrics_list, num_points)\n",
        "oedilf_sample = random.sample(oedilf_wordnet_metrics_list, num_points)\n",
        "\n",
        "gpoet2_path_distances = []\n",
        "for (id, distance) in gpoet2_sample:\n",
        "    gpoet2_path_distances.append(distance)\n",
        "assert len(gpoet2_path_distances) == num_points\n",
        "\n",
        "oedilf_path_distances = []\n",
        "for (id, distance) in oedilf_sample:\n",
        "    oedilf_path_distances.append(distance)\n",
        "assert len(oedilf_path_distances) == num_points"
      ],
      "metadata": {
        "id": "9loUjEtAiRjS"
      },
      "execution_count": 13,
      "outputs": []
    },
    {
      "cell_type": "code",
      "source": [
        "plt.figure(figsize=(8,6))\n",
        "plt.hist(gpoet2_path_distances, bins=100, alpha=0.5, label=\"GPoeT-2\")\n",
        "plt.hist(oedilf_path_distances, bins=100, alpha=0.5, label=\"OEDILF\")\n",
        "plt.xlabel(\"Average Pairwise Noun Similarities\", size=14)\n",
        "plt.ylabel(\"Count\", size=14)\n",
        "plt.title(\"Average Pairwise WordNet Path Similarities\")\n",
        "plt.legend(loc='upper right')\n",
        "plt.show()\n",
        "\n",
        "scipy.stats.ttest_ind(oedilf_path_distances, gpoet2_path_distances, axis=0, equal_var=False)"
      ],
      "metadata": {
        "id": "a3rfEHCNiTId",
        "colab": {
          "base_uri": "https://localhost:8080/",
          "height": 425
        },
        "outputId": "2534a2f6-509c-4040-c52b-5fc9159d6b9b"
      },
      "execution_count": 14,
      "outputs": [
        {
          "output_type": "display_data",
          "data": {
            "text/plain": [
              "<Figure size 576x432 with 1 Axes>"
            ],
            "image/png": "[encoded data removed]"
          },
          "metadata": {
            "needs_background": "light"
          }
        },
        {
          "output_type": "execute_result",
          "data": {
            "text/plain": [
              "Ttest_indResult(statistic=-7.516424749652683, pvalue=1.3478029186176363e-13)"
            ]
          },
          "metadata": {},
          "execution_count": 14
        }
      ]
    },
    {
      "cell_type": "code",
      "source": [
        ""
      ],
      "metadata": {
        "id": "Ctq67FqBkl7b"
      },
      "execution_count": null,
      "outputs": []
    }
  ]
}