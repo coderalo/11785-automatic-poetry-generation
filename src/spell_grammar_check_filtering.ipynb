{
 "cells": [
  {
   "cell_type": "markdown",
   "source": [
    "# Poem Filtering using LanguageTool\n",
    "To reduce the count of generated poems for manual review, we filter out poems that violate given grammatical rules, and correct others."
   ],
   "metadata": {
    "collapsed": false,
    "pycharm": {
     "name": "#%% md\n"
    }
   }
  },
  {
   "cell_type": "code",
   "execution_count": null,
   "metadata": {
    "collapsed": true,
    "pycharm": {
     "is_executing": true
    }
   },
   "outputs": [],
   "source": [
    "!pip install --upgrade language_tool_python\n",
    "import language_tool_python\n",
    "from collections import defaultdict\n",
    "tool = language_tool_python.LanguageTool('en-US')\n",
    "import json"
   ]
  },
  {
   "cell_type": "code",
   "execution_count": 62,
   "outputs": [],
   "source": [
    "file_folder = '../../../idl_project_data/data'\n",
    "infile_path = f\"{file_folder}/04_21_free_form_35198.json\"\n",
    "with open(infile_path, 'r') as infile:\n",
    "    poems = json.load(infile)"
   ],
   "metadata": {
    "collapsed": false,
    "pycharm": {
     "name": "#%%\n"
    }
   }
  },
  {
   "cell_type": "code",
   "execution_count": 64,
   "outputs": [],
   "source": [
    "def check_and_correct(poem, index=-1, corrected_rules=[], ignored_rules=[], verbose=False):\n",
    "    \"\"\"Check the poem, potentially ignoring certain rules and correcting for others\n",
    "\n",
    "    :param poem: the poem as a string that should be checked\n",
    "    :param index: the identifier of the poem\n",
    "    :param corrected_rules: list of rules whose errors shall be corrected\n",
    "    :param ignored_rules: list of rules whose errors shall be ignored\n",
    "    :param verbose: output debug output or not\n",
    "    :return: tuple consisting of (bool, str) where the bool represents whether the poem did\n",
    "             not have any errors, and the string is the potentially corrected poem\n",
    "    \"\"\"\n",
    "    matches = tool.check(poem)\n",
    "    filtered_matches = []\n",
    "    matches_to_correct = []\n",
    "    for match in matches:\n",
    "        if match.ruleId in ignored_rules:\n",
    "            if verbose:\n",
    "                print(f\"Ignored {match.ruleId} in poem {index}\")\n",
    "        elif match.ruleId in corrected_rules:\n",
    "            if verbose:\n",
    "                print(f\"Will correct {match.ruleId} in poem {index}\")\n",
    "            matches_to_correct.append(match)\n",
    "        else:\n",
    "            if verbose:\n",
    "                print(f\"Rejecting poem {index} based on {match.ruleId}\")\n",
    "            filtered_matches.append(match)\n",
    "\n",
    "    if len(filtered_matches) > 0:\n",
    "        return False, None\n",
    "\n",
    "    poem = language_tool_python.utils.correct(poem, matches_to_correct)\n",
    "    return True, poem"
   ],
   "metadata": {
    "collapsed": false,
    "pycharm": {
     "name": "#%%\n"
    }
   }
  },
  {
   "cell_type": "code",
   "execution_count": null,
   "outputs": [],
   "source": [
    "from tqdm.notebook import tqdm\n",
    "\n",
    "ignored_rules = ['UPPERCASE_SENTENCE_START']\n",
    "corrected_rules = ['I_LOWERCASE']\n",
    "\n",
    "poem_keys = list(poems.keys())\n",
    "erroneous_poems = {}\n",
    "filtered_poems = {}\n",
    "key_not_found = 0\n",
    "\n",
    "for key in tqdm(poem_keys):\n",
    "    if key in poems:\n",
    "        poem = poems[key]\n",
    "        valid, corrected_poem = check_and_correct(poem, key, corrected_rules, ignored_rules)\n",
    "        if not valid:\n",
    "            erroneous_poems[key] = poem\n",
    "        else:\n",
    "            filtered_poems[key] = corrected_poem\n",
    "    else:\n",
    "        key_not_found += 1"
   ],
   "metadata": {
    "collapsed": false,
    "pycharm": {
     "name": "#%%\n",
     "is_executing": true
    }
   }
  },
  {
   "cell_type": "code",
   "execution_count": 67,
   "outputs": [],
   "source": [
    "outfile_name = f\"{file_folder}/04_21_free_form_spell_checked_{len(filtered_poems)}.json\"\n",
    "with open(outfile_name, 'w') as outfile:\n",
    "    json.dump(filtered_poems, outfile, indent=4, sort_keys=True)"
   ],
   "metadata": {
    "collapsed": false,
    "pycharm": {
     "name": "#%%\n"
    }
   }
  },
  {
   "cell_type": "markdown",
   "source": [
    "# Helper Functions"
   ],
   "metadata": {
    "collapsed": false
   }
  },
  {
   "cell_type": "code",
   "execution_count": null,
   "outputs": [],
   "source": [
    "def count_errors_in_poems(poems: list, error_list):\n",
    "    \"\"\"Count the errors based on type given a list of poems\n",
    "\n",
    "    :param poems: list of poems\n",
    "    :param error_list: error rules to consider\n",
    "    :return: dictionary that represents the counts of errors in the poems\n",
    "    \"\"\"\n",
    "    error_counter = defaultdict(int)\n",
    "    error_set = set(error_list)\n",
    "    for poem in poems:\n",
    "        matches = tool.check(poem)\n",
    "        for match in matches:\n",
    "            error_counter[match.ruleId] += 1\n",
    "            if str(match.ruleId) in error_set:\n",
    "                print(match.ruleId, poem)\n",
    "                error_set.remove(match.ruleId)\n",
    "    return dict(error_counter)"
   ],
   "metadata": {
    "collapsed": false,
    "pycharm": {
     "name": "#%%\n"
    }
   }
  }
 ],
 "metadata": {
  "kernelspec": {
   "display_name": "Python 3",
   "language": "python",
   "name": "python3"
  },
  "language_info": {
   "codemirror_mode": {
    "name": "ipython",
    "version": 2
   },
   "file_extension": ".py",
   "mimetype": "text/x-python",
   "name": "python",
   "nbconvert_exporter": "python",
   "pygments_lexer": "ipython2",
   "version": "2.7.6"
  }
 },
 "nbformat": 4,
 "nbformat_minor": 0
}